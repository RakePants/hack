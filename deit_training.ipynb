{
  "cells": [
    {
      "cell_type": "markdown",
      "metadata": {
        "id": "abs9pZaEP2ME"
      },
      "source": [
        "# AI_кабанчики, обучение DeiT\n"
      ]
    },
    {
      "cell_type": "code",
      "execution_count": null,
      "metadata": {
        "colab": {
          "base_uri": "https://localhost:8080/"
        },
        "execution": {
          "iopub.execute_input": "2023-11-24T20:45:29.665189Z",
          "iopub.status.busy": "2023-11-24T20:45:29.664164Z",
          "iopub.status.idle": "2023-11-24T20:45:36.322878Z",
          "shell.execute_reply": "2023-11-24T20:45:36.321954Z",
          "shell.execute_reply.started": "2023-11-24T20:45:29.665142Z"
        },
        "id": "FkCYxBuNP2MF",
        "outputId": "1f6ee5da-23ab-4b4e-9b14-ccf6570e2ed5",
        "tags": []
      },
      "outputs": [
        {
          "name": "stdout",
          "output_type": "stream",
          "text": [
            "Defaulting to user installation because normal site-packages is not writeable\n",
            "Requirement already satisfied: datasets in /home/jupyter/.local/lib/python3.10/site-packages (2.15.0)\n",
            "Requirement already satisfied: transformers in /home/jupyter/.local/lib/python3.10/site-packages (4.35.2)\n",
            "Requirement already satisfied: numpy>=1.17 in /usr/local/lib/python3.10/dist-packages (from datasets) (1.22.4)\n",
            "Requirement already satisfied: pyarrow>=8.0.0 in /usr/local/lib/python3.10/dist-packages (from datasets) (9.0.0)\n",
            "Requirement already satisfied: pyarrow-hotfix in /home/jupyter/.local/lib/python3.10/site-packages (from datasets) (0.6)\n",
            "Requirement already satisfied: dill<0.3.8,>=0.3.0 in /home/jupyter/.local/lib/python3.10/site-packages (from datasets) (0.3.7)\n",
            "Requirement already satisfied: pandas in /usr/local/lib/python3.10/dist-packages (from datasets) (1.5.3)\n",
            "Requirement already satisfied: requests>=2.19.0 in /usr/local/lib/python3.10/dist-packages (from datasets) (2.27.1)\n",
            "Requirement already satisfied: tqdm>=4.62.1 in /usr/local/lib/python3.10/dist-packages (from datasets) (4.65.0)\n",
            "Requirement already satisfied: xxhash in /kernel/fallback/lib/python3.10/site-packages (from datasets) (2.0.0)\n",
            "Requirement already satisfied: multiprocess in /home/jupyter/.local/lib/python3.10/site-packages (from datasets) (0.70.15)\n",
            "Requirement already satisfied: fsspec[http]<=2023.10.0,>=2023.1.0 in /home/jupyter/.local/lib/python3.10/site-packages (from datasets) (2023.10.0)\n",
            "Requirement already satisfied: aiohttp in /usr/local/lib/python3.10/dist-packages (from datasets) (3.8.5)\n",
            "Requirement already satisfied: huggingface-hub>=0.18.0 in /home/jupyter/.local/lib/python3.10/site-packages (from datasets) (0.19.4)\n",
            "Requirement already satisfied: packaging in /kernel/lib/python3.10/site-packages (from datasets) (23.2)\n",
            "Requirement already satisfied: pyyaml>=5.1 in /usr/local/lib/python3.10/dist-packages (from datasets) (6.0.1)\n",
            "Requirement already satisfied: filelock in /usr/local/lib/python3.10/dist-packages (from transformers) (3.12.2)\n",
            "Requirement already satisfied: regex!=2019.12.17 in /usr/local/lib/python3.10/dist-packages (from transformers) (2022.10.31)\n",
            "Requirement already satisfied: tokenizers<0.19,>=0.14 in /home/jupyter/.local/lib/python3.10/site-packages (from transformers) (0.15.0)\n",
            "Requirement already satisfied: safetensors>=0.3.1 in /home/jupyter/.local/lib/python3.10/site-packages (from transformers) (0.4.0)\n",
            "Requirement already satisfied: attrs>=17.3.0 in /kernel/lib/python3.10/site-packages (from aiohttp->datasets) (23.1.0)\n",
            "Requirement already satisfied: charset-normalizer<4.0,>=2.0 in /kernel/lib/python3.10/site-packages (from aiohttp->datasets) (3.3.2)\n",
            "Requirement already satisfied: multidict<7.0,>=4.5 in /usr/local/lib/python3.10/dist-packages (from aiohttp->datasets) (6.0.4)\n",
            "Requirement already satisfied: async-timeout<5.0,>=4.0.0a3 in /usr/local/lib/python3.10/dist-packages (from aiohttp->datasets) (4.0.2)\n",
            "Requirement already satisfied: yarl<2.0,>=1.0 in /usr/local/lib/python3.10/dist-packages (from aiohttp->datasets) (1.9.2)\n",
            "Requirement already satisfied: frozenlist>=1.1.1 in /usr/local/lib/python3.10/dist-packages (from aiohttp->datasets) (1.4.0)\n",
            "Requirement already satisfied: aiosignal>=1.1.2 in /usr/local/lib/python3.10/dist-packages (from aiohttp->datasets) (1.3.1)\n",
            "Requirement already satisfied: typing-extensions>=3.7.4.3 in /kernel/lib/python3.10/site-packages (from huggingface-hub>=0.18.0->datasets) (4.8.0)\n",
            "Collecting urllib3<1.27,>=1.21.1 (from requests>=2.19.0->datasets)\n",
            "  Obtaining dependency information for urllib3<1.27,>=1.21.1 from https://files.pythonhosted.org/packages/b0/53/aa91e163dcfd1e5b82d8a890ecf13314e3e149c05270cc644581f77f17fd/urllib3-1.26.18-py2.py3-none-any.whl.metadata\n",
            "  Using cached urllib3-1.26.18-py2.py3-none-any.whl.metadata (48 kB)\n",
            "Requirement already satisfied: certifi>=2017.4.17 in /kernel/lib/python3.10/site-packages (from requests>=2.19.0->datasets) (2023.7.22)\n",
            "Collecting charset-normalizer<4.0,>=2.0 (from aiohttp->datasets)\n",
            "  Using cached charset_normalizer-2.0.12-py3-none-any.whl (39 kB)\n",
            "Requirement already satisfied: idna<4,>=2.5 in /kernel/lib/python3.10/site-packages (from requests>=2.19.0->datasets) (3.4)\n",
            "Requirement already satisfied: python-dateutil>=2.8.1 in /kernel/lib/python3.10/site-packages (from pandas->datasets) (2.8.2)\n",
            "Requirement already satisfied: pytz>=2020.1 in /usr/local/lib/python3.10/dist-packages (from pandas->datasets) (2022.7.1)\n",
            "Requirement already satisfied: six>=1.5 in /kernel/lib/python3.10/site-packages (from python-dateutil>=2.8.1->pandas->datasets) (1.16.0)\n",
            "Using cached urllib3-1.26.18-py2.py3-none-any.whl (143 kB)\n",
            "Installing collected packages: urllib3, charset-normalizer\n",
            "\u001b[33m  WARNING: The script normalizer is installed in '/home/jupyter/.local/bin' which is not on PATH.\n",
            "  Consider adding this directory to PATH or, if you prefer to suppress this warning, use --no-warn-script-location.\u001b[0m\u001b[33m\n",
            "\u001b[0m\u001b[31mERROR: pip's dependency resolver does not currently take into account all the packages that are installed. This behaviour is the source of the following dependency conflicts.\n",
            "boto3 1.20.24 requires botocore<1.24.0,>=1.23.24, but you have botocore 1.31.64 which is incompatible.\n",
            "cloud-ml 0.0.1 requires s3fs<=0.5.2,>=0.4.1, but you have s3fs 2023.10.0 which is incompatible.\n",
            "gcsfs 2023.6.0 requires fsspec==2023.6.0, but you have fsspec 2023.10.0 which is incompatible.\u001b[0m\u001b[31m\n",
            "\u001b[0mSuccessfully installed charset-normalizer-2.0.12 urllib3-1.26.18\n",
            "\n",
            "\u001b[1m[\u001b[0m\u001b[34;49mnotice\u001b[0m\u001b[1;39;49m]\u001b[0m\u001b[39;49m A new release of pip is available: \u001b[0m\u001b[31;49m23.2.1\u001b[0m\u001b[39;49m -> \u001b[0m\u001b[32;49m23.3.1\u001b[0m\n",
            "\u001b[1m[\u001b[0m\u001b[34;49mnotice\u001b[0m\u001b[1;39;49m]\u001b[0m\u001b[39;49m To update, run: \u001b[0m\u001b[32;49mpython3 -m pip install --upgrade pip\u001b[0m\n"
          ]
        }
      ],
      "source": [
        "%pip install datasets transformers -U"
      ]
    },
    {
      "cell_type": "code",
      "execution_count": null,
      "metadata": {
        "colab": {
          "base_uri": "https://localhost:8080/"
        },
        "execution": {
          "iopub.execute_input": "2023-11-24T20:28:04.902001Z",
          "iopub.status.busy": "2023-11-24T20:28:04.900967Z",
          "iopub.status.idle": "2023-11-24T20:28:13.440415Z",
          "shell.execute_reply": "2023-11-24T20:28:13.439462Z",
          "shell.execute_reply.started": "2023-11-24T20:28:04.901909Z"
        },
        "id": "7j_gF4l5Mk4o",
        "outputId": "6b78c46e-b9e1-42b9-f643-516a9af156c8",
        "tags": []
      },
      "outputs": [
        {
          "name": "stdout",
          "output_type": "stream",
          "text": [
            "Defaulting to user installation because normal site-packages is not writeable\n",
            "Requirement already satisfied: gdown in /usr/local/lib/python3.10/dist-packages (4.6.6)\n",
            "Requirement already satisfied: filelock in /usr/local/lib/python3.10/dist-packages (from gdown) (3.12.2)\n",
            "Requirement already satisfied: requests[socks] in /usr/local/lib/python3.10/dist-packages (from gdown) (2.27.1)\n",
            "Requirement already satisfied: six in /kernel/lib/python3.10/site-packages (from gdown) (1.16.0)\n",
            "Requirement already satisfied: tqdm in /usr/local/lib/python3.10/dist-packages (from gdown) (4.65.0)\n",
            "Requirement already satisfied: beautifulsoup4 in /kernel/lib/python3.10/site-packages (from gdown) (4.12.2)\n",
            "Requirement already satisfied: soupsieve>1.2 in /kernel/lib/python3.10/site-packages (from beautifulsoup4->gdown) (2.5)\n",
            "Collecting urllib3<1.27,>=1.21.1 (from requests[socks]->gdown)\n",
            "  Obtaining dependency information for urllib3<1.27,>=1.21.1 from https://files.pythonhosted.org/packages/b0/53/aa91e163dcfd1e5b82d8a890ecf13314e3e149c05270cc644581f77f17fd/urllib3-1.26.18-py2.py3-none-any.whl.metadata\n",
            "  Downloading urllib3-1.26.18-py2.py3-none-any.whl.metadata (48 kB)\n",
            "\u001b[2K     \u001b[90m━━━━━━━━━━━━━━━━━━━━━━━━━━━━━━━━━━━━━━━\u001b[0m \u001b[32m48.9/48.9 kB\u001b[0m \u001b[31m749.4 kB/s\u001b[0m eta \u001b[36m0:00:00\u001b[0ma \u001b[36m0:00:01\u001b[0m\n",
            "\u001b[?25hRequirement already satisfied: certifi>=2017.4.17 in /kernel/lib/python3.10/site-packages (from requests[socks]->gdown) (2023.7.22)\n",
            "Collecting charset-normalizer~=2.0.0 (from requests[socks]->gdown)\n",
            "  Downloading charset_normalizer-2.0.12-py3-none-any.whl (39 kB)\n",
            "Requirement already satisfied: idna<4,>=2.5 in /kernel/lib/python3.10/site-packages (from requests[socks]->gdown) (3.4)\n",
            "Requirement already satisfied: PySocks!=1.5.7,>=1.5.6 in /usr/local/lib/python3.10/dist-packages (from requests[socks]->gdown) (1.7.1)\n",
            "Downloading urllib3-1.26.18-py2.py3-none-any.whl (143 kB)\n",
            "\u001b[2K   \u001b[90m━━━━━━━━━━━━━━━━━━━━━━━━━━━━━━━━━━━━━━━━\u001b[0m \u001b[32m143.8/143.8 kB\u001b[0m \u001b[31m2.4 MB/s\u001b[0m eta \u001b[36m0:00:00\u001b[0m \u001b[36m0:00:01\u001b[0m\n",
            "\u001b[?25hInstalling collected packages: urllib3, charset-normalizer\n",
            "\u001b[33m  WARNING: The script normalizer is installed in '/home/jupyter/.local/bin' which is not on PATH.\n",
            "  Consider adding this directory to PATH or, if you prefer to suppress this warning, use --no-warn-script-location.\u001b[0m\u001b[33m\n",
            "\u001b[0mSuccessfully installed charset-normalizer-2.0.12 urllib3-1.26.18\n",
            "\n",
            "\u001b[1m[\u001b[0m\u001b[34;49mnotice\u001b[0m\u001b[1;39;49m]\u001b[0m\u001b[39;49m A new release of pip is available: \u001b[0m\u001b[31;49m23.2.1\u001b[0m\u001b[39;49m -> \u001b[0m\u001b[32;49m23.3.1\u001b[0m\n",
            "\u001b[1m[\u001b[0m\u001b[34;49mnotice\u001b[0m\u001b[1;39;49m]\u001b[0m\u001b[39;49m To update, run: \u001b[0m\u001b[32;49mpython3 -m pip install --upgrade pip\u001b[0m\n"
          ]
        }
      ],
      "source": [
        "%pip install gdown"
      ]
    },
    {
      "cell_type": "code",
      "execution_count": null,
      "metadata": {
        "execution": {
          "iopub.execute_input": "2023-11-24T20:30:09.462176Z",
          "iopub.status.busy": "2023-11-24T20:30:09.461342Z",
          "iopub.status.idle": "2023-11-24T20:30:16.209321Z",
          "shell.execute_reply": "2023-11-24T20:30:16.208335Z",
          "shell.execute_reply.started": "2023-11-24T20:30:09.462132Z"
        },
        "tags": [],
        "id": "JsZJkm1SC_iR",
        "outputId": "91224438-93c7-4fb8-9e5f-b87b8aa9caa7"
      },
      "outputs": [
        {
          "name": "stderr",
          "output_type": "stream",
          "text": [
            "Downloading...\n",
            "From: https://drive.google.com/uc?id=1H5c0_lRH0NrNyXR_7IHAHPnHW708K6BY\n",
            "To: /home/jupyter/work/resources/train_image_vit.rar\n",
            "100%|██████████| 258M/258M [00:03<00:00, 65.6MB/s] \n"
          ]
        },
        {
          "data": {
            "text/plain": [
              "'./train_image_vit.rar'"
            ]
          },
          "execution_count": 5,
          "metadata": {},
          "output_type": "execute_result"
        }
      ],
      "source": [
        "import gdown\n",
        "\n",
        "file_id = '1H5c0_lRH0NrNyXR_7IHAHPnHW708K6BY'\n",
        "gdown.download(id=file_id, output='./')"
      ]
    },
    {
      "cell_type": "code",
      "execution_count": null,
      "metadata": {
        "execution": {
          "iopub.execute_input": "2023-11-24T20:32:25.076237Z",
          "iopub.status.busy": "2023-11-24T20:32:25.075253Z",
          "iopub.status.idle": "2023-11-24T20:34:10.831095Z",
          "shell.execute_reply": "2023-11-24T20:34:10.830123Z",
          "shell.execute_reply.started": "2023-11-24T20:32:25.076192Z"
        },
        "id": "c-BbYeyNC_iT",
        "outputId": "f497fc9d-e0f6-4d7a-8d4f-3a945f40d9f7"
      },
      "outputs": [
        {
          "name": "stdout",
          "output_type": "stream",
          "text": [
            "Defaulting to user installation because normal site-packages is not writeable\n",
            "Collecting patool\n",
            "  Obtaining dependency information for patool from https://files.pythonhosted.org/packages/ae/2d/7780e97ca4b9c6309f0df70a8c5ae93d894e8e233421e9268a17e11f19e6/patool-2.0.0-py2.py3-none-any.whl.metadata\n",
            "  Downloading patool-2.0.0-py2.py3-none-any.whl.metadata (4.0 kB)\n",
            "Downloading patool-2.0.0-py2.py3-none-any.whl (93 kB)\n",
            "\u001b[2K   \u001b[90m━━━━━━━━━━━━━━━━━━━━━━━━━━━━━━━━━━━━━━━━\u001b[0m \u001b[32m93.7/93.7 kB\u001b[0m \u001b[31m1.1 MB/s\u001b[0m eta \u001b[36m0:00:00\u001b[0meta \u001b[36m0:00:01\u001b[0m\n",
            "\u001b[?25hInstalling collected packages: patool\n",
            "\u001b[33m  WARNING: The script patool is installed in '/home/jupyter/.local/bin' which is not on PATH.\n",
            "  Consider adding this directory to PATH or, if you prefer to suppress this warning, use --no-warn-script-location.\u001b[0m\u001b[33m\n",
            "\u001b[0mSuccessfully installed patool-2.0.0\n",
            "\n",
            "\u001b[1m[\u001b[0m\u001b[34;49mnotice\u001b[0m\u001b[1;39;49m]\u001b[0m\u001b[39;49m A new release of pip is available: \u001b[0m\u001b[31;49m23.2.1\u001b[0m\u001b[39;49m -> \u001b[0m\u001b[32;49m23.3.1\u001b[0m\n",
            "\u001b[1m[\u001b[0m\u001b[34;49mnotice\u001b[0m\u001b[1;39;49m]\u001b[0m\u001b[39;49m To update, run: \u001b[0m\u001b[32;49mpython3 -m pip install --upgrade pip\u001b[0m\n"
          ]
        },
        {
          "name": "stderr",
          "output_type": "stream",
          "text": [
            "INFO patool: Extracting train_image_vit.rar ...\n",
            "INFO patool: running /usr/bin/7z x -o./ -- train_image_vit.rar\n",
            "INFO patool:     with input=''\n",
            "INFO patool: ... train_image_vit.rar extracted to `./'.\n"
          ]
        },
        {
          "data": {
            "text/plain": [
              "'./'"
            ]
          },
          "execution_count": 6,
          "metadata": {},
          "output_type": "execute_result"
        }
      ],
      "source": [
        "%pip install patool\n",
        "import patoolib\n",
        "patoolib.extract_archive('train_image_vit.rar', outdir='./')"
      ]
    },
    {
      "cell_type": "code",
      "execution_count": null,
      "metadata": {
        "execution": {
          "iopub.execute_input": "2023-11-25T03:15:20.226455Z",
          "iopub.status.busy": "2023-11-25T03:15:20.225582Z",
          "iopub.status.idle": "2023-11-25T03:15:21.197011Z",
          "shell.execute_reply": "2023-11-25T03:15:21.195912Z",
          "shell.execute_reply.started": "2023-11-25T03:15:20.226414Z"
        },
        "tags": [],
        "id": "-nzGdx9WC_iV"
      },
      "outputs": [],
      "source": [
        "from datasets import load_dataset"
      ]
    },
    {
      "cell_type": "code",
      "execution_count": null,
      "metadata": {
        "colab": {
          "base_uri": "https://localhost:8080/",
          "height": 190,
          "referenced_widgets": [
            "7c706b32c2124f0abeaaf48e0aad282f",
            "3aa95672721e4d36ba656c51d9c29adc",
            "a7b3ced824164e1ebe46928954ad40aa",
            "771b23c2f1ca4e809492bf79cad234f9",
            "4c0160b9455e48bbb056c5f287704c65",
            "a22ab995e08a4f529066202057480dfc",
            "7fbaf9f793a94f7cb1a5ffe100ed902d",
            "8977bf64f8bb4537a8e800bc44b9e533",
            "789d52ebfc9b458f95c7455edab998de",
            "658856548464496d90d62bd3875c7b66",
            "e3715c3490aa4a9bbbd7f4ff0df7c5c4",
            "804e6f83b143444eaf3ba8582892dc22",
            "a39d7ad015414870be2161627d30ad98",
            "3ce45bbe5ae942b69499bfd49c7b097f",
            "aac4137eee1141d8a37a3f378531d395",
            "752159cc6a9f443086e26049f3ec5b3d",
            "d3bf4fef722c4a469997c22846384632"
          ]
        },
        "execution": {
          "iopub.execute_input": "2023-11-25T03:15:23.195930Z",
          "iopub.status.busy": "2023-11-25T03:15:23.194951Z",
          "iopub.status.idle": "2023-11-25T03:15:50.405795Z",
          "shell.execute_reply": "2023-11-25T03:15:50.404598Z",
          "shell.execute_reply.started": "2023-11-25T03:15:23.195876Z"
        },
        "id": "zB6sBaFQP2MJ",
        "outputId": "ef73047e-0b37-4814-8979-32bffbf99cd1",
        "tags": []
      },
      "outputs": [
        {
          "name": "stderr",
          "output_type": "stream",
          "text": [
            "/home/jupyter/.local/lib/python3.10/site-packages/datasets/load.py:2096: FutureWarning: 'ignore_verifications' was deprecated in favor of 'verification_mode' in version 2.9.1 and will be removed in 3.0.0.\n",
            "You can remove this warning by passing 'verification_mode=all_checks' instead.\n",
            "  warnings.warn(\n"
          ]
        },
        {
          "data": {
            "application/vnd.jupyter.widget-view+json": {
              "model_id": "804e6f83b143444eaf3ba8582892dc22",
              "version_major": 2,
              "version_minor": 0
            },
            "text/plain": [
              "Resolving data files:   0%|          | 0/10252 [00:00<?, ?it/s]"
            ]
          },
          "metadata": {},
          "output_type": "display_data"
        },
        {
          "data": {
            "application/vnd.jupyter.widget-view+json": {
              "model_id": "a39d7ad015414870be2161627d30ad98",
              "version_major": 2,
              "version_minor": 0
            },
            "text/plain": [
              "Downloading data files:   0%|          | 0/10252 [00:00<?, ?it/s]"
            ]
          },
          "metadata": {},
          "output_type": "display_data"
        },
        {
          "data": {
            "application/vnd.jupyter.widget-view+json": {
              "model_id": "3ce45bbe5ae942b69499bfd49c7b097f",
              "version_major": 2,
              "version_minor": 0
            },
            "text/plain": [
              "Computing checksums:  57%|#####7    | 5874/10252 [00:05<00:03, 1174.75it/s]"
            ]
          },
          "metadata": {},
          "output_type": "display_data"
        },
        {
          "data": {
            "application/vnd.jupyter.widget-view+json": {
              "model_id": "aac4137eee1141d8a37a3f378531d395",
              "version_major": 2,
              "version_minor": 0
            },
            "text/plain": [
              "Downloading data files: 0it [00:00, ?it/s]"
            ]
          },
          "metadata": {},
          "output_type": "display_data"
        },
        {
          "data": {
            "application/vnd.jupyter.widget-view+json": {
              "model_id": "752159cc6a9f443086e26049f3ec5b3d",
              "version_major": 2,
              "version_minor": 0
            },
            "text/plain": [
              "Extracting data files: 0it [00:00, ?it/s]"
            ]
          },
          "metadata": {},
          "output_type": "display_data"
        },
        {
          "data": {
            "application/vnd.jupyter.widget-view+json": {
              "model_id": "d3bf4fef722c4a469997c22846384632",
              "version_major": 2,
              "version_minor": 0
            },
            "text/plain": [
              "Generating train split: 0 examples [00:00, ? examples/s]"
            ]
          },
          "metadata": {},
          "output_type": "display_data"
        },
        {
          "data": {
            "text/plain": [
              "DatasetDict({\n",
              "    train: Dataset({\n",
              "        features: ['image', 'label'],\n",
              "        num_rows: 10252\n",
              "    })\n",
              "})"
            ]
          },
          "execution_count": 3,
          "metadata": {},
          "output_type": "execute_result"
        }
      ],
      "source": [
        "\n",
        "\n",
        "ds = load_dataset(\n",
        "    'imagefolder',\n",
        "    data_dir='train_image_vit/train', # training dataset\n",
        "    ignore_verifications=False,  # set to True if seeing splits Error\n",
        "\n",
        ")\n",
        "\n",
        "ds"
      ]
    },
    {
      "cell_type": "code",
      "execution_count": null,
      "metadata": {
        "execution": {
          "iopub.execute_input": "2023-11-25T03:16:41.010666Z",
          "iopub.status.busy": "2023-11-25T03:16:41.009676Z",
          "iopub.status.idle": "2023-11-25T03:16:41.208394Z",
          "shell.execute_reply": "2023-11-25T03:16:41.207360Z",
          "shell.execute_reply.started": "2023-11-25T03:16:41.010613Z"
        },
        "id": "8J_vTrsmC_iX"
      },
      "outputs": [],
      "source": [
        "ds = ds['train'].train_test_split(test_size=0.2)"
      ]
    },
    {
      "cell_type": "code",
      "execution_count": null,
      "metadata": {
        "execution": {
          "iopub.execute_input": "2023-11-25T03:17:50.295599Z",
          "iopub.status.busy": "2023-11-25T03:17:50.294703Z",
          "iopub.status.idle": "2023-11-25T03:17:50.309939Z",
          "shell.execute_reply": "2023-11-25T03:17:50.308539Z",
          "shell.execute_reply.started": "2023-11-25T03:17:50.295565Z"
        },
        "tags": [],
        "id": "AlLYj_wZC_iY"
      },
      "outputs": [],
      "source": [
        "dataset_train = ds['train']\n",
        "dataset_test= ds['test']"
      ]
    },
    {
      "cell_type": "code",
      "execution_count": null,
      "metadata": {
        "execution": {
          "iopub.execute_input": "2023-11-24T20:42:04.090327Z",
          "iopub.status.busy": "2023-11-24T20:42:04.089485Z",
          "iopub.status.idle": "2023-11-24T20:42:09.531399Z",
          "shell.execute_reply": "2023-11-24T20:42:09.530443Z",
          "shell.execute_reply.started": "2023-11-24T20:42:04.090280Z"
        },
        "tags": [],
        "id": "HFrPFul5C_iY",
        "outputId": "1c09d922-c434-4118-d6b1-95531c67b4c1"
      },
      "outputs": [
        {
          "name": "stdout",
          "output_type": "stream",
          "text": [
            "Defaulting to user installation because normal site-packages is not writeable\n",
            "Requirement already satisfied: fsspec in /home/jupyter/.local/lib/python3.10/site-packages (2023.10.0)\n",
            "\n",
            "\u001b[1m[\u001b[0m\u001b[34;49mnotice\u001b[0m\u001b[1;39;49m]\u001b[0m\u001b[39;49m A new release of pip is available: \u001b[0m\u001b[31;49m23.2.1\u001b[0m\u001b[39;49m -> \u001b[0m\u001b[32;49m23.3.1\u001b[0m\n",
            "\u001b[1m[\u001b[0m\u001b[34;49mnotice\u001b[0m\u001b[1;39;49m]\u001b[0m\u001b[39;49m To update, run: \u001b[0m\u001b[32;49mpython3 -m pip install --upgrade pip\u001b[0m\n"
          ]
        }
      ],
      "source": [
        "%pip install fsspec -U"
      ]
    },
    {
      "cell_type": "code",
      "execution_count": null,
      "metadata": {
        "colab": {
          "base_uri": "https://localhost:8080/"
        },
        "execution": {
          "iopub.execute_input": "2023-11-25T03:19:02.205641Z",
          "iopub.status.busy": "2023-11-25T03:19:02.204760Z",
          "iopub.status.idle": "2023-11-25T03:19:02.269966Z",
          "shell.execute_reply": "2023-11-25T03:19:02.268814Z",
          "shell.execute_reply.started": "2023-11-25T03:19:02.205594Z"
        },
        "id": "R-twkfk2P2MO",
        "outputId": "62ffb8b4-b243-4604-f824-ce3c29cf9577",
        "tags": []
      },
      "outputs": [
        {
          "data": {
            "text/plain": [
              "(4, ClassLabel(names=['Бетон', 'Грунт', 'Дерево', 'Кирпич'], id=None))"
            ]
          },
          "execution_count": 12,
          "metadata": {},
          "output_type": "execute_result"
        }
      ],
      "source": [
        "num_classes = len(set(dataset_train['label']))\n",
        "labels = dataset_train.features['label']\n",
        "num_classes, labels"
      ]
    },
    {
      "cell_type": "code",
      "execution_count": null,
      "metadata": {
        "colab": {
          "base_uri": "https://localhost:8080/"
        },
        "execution": {
          "iopub.execute_input": "2023-11-25T03:19:06.927192Z",
          "iopub.status.busy": "2023-11-25T03:19:06.926204Z",
          "iopub.status.idle": "2023-11-25T03:19:06.949898Z",
          "shell.execute_reply": "2023-11-25T03:19:06.948856Z",
          "shell.execute_reply.started": "2023-11-25T03:19:06.927141Z"
        },
        "id": "BGJFG5RTP2MQ",
        "outputId": "8c5ad4d8-4bcd-4333-9014-e8e7f87b1fb8",
        "tags": []
      },
      "outputs": [
        {
          "data": {
            "text/plain": [
              "{'image': <PIL.JpegImagePlugin.JpegImageFile image mode=RGB size=365x132>,\n",
              " 'label': 0}"
            ]
          },
          "execution_count": 13,
          "metadata": {},
          "output_type": "execute_result"
        }
      ],
      "source": [
        "dataset_train[0]"
      ]
    },
    {
      "cell_type": "code",
      "execution_count": null,
      "metadata": {
        "colab": {
          "base_uri": "https://localhost:8080/",
          "height": 172
        },
        "id": "4elZ2QvWP2MT",
        "outputId": "c66f02d6-e9c0-42b4-b610-9715e4907822"
      },
      "outputs": [
        {
          "data": {
            "image/png": "[encoded data removed]",
            "text/plain": [
              "<PIL.JpegImagePlugin.JpegImageFile image mode=RGB size=269x155>"
            ]
          },
          "execution_count": 5,
          "metadata": {},
          "output_type": "execute_result"
        }
      ],
      "source": [
        "dataset_train[0]['image']"
      ]
    },
    {
      "cell_type": "code",
      "execution_count": null,
      "metadata": {
        "colab": {
          "base_uri": "https://localhost:8080/"
        },
        "execution": {
          "iopub.execute_input": "2023-11-25T03:19:13.415946Z",
          "iopub.status.busy": "2023-11-25T03:19:13.414980Z",
          "iopub.status.idle": "2023-11-25T03:19:13.434219Z",
          "shell.execute_reply": "2023-11-25T03:19:13.433113Z",
          "shell.execute_reply.started": "2023-11-25T03:19:13.415910Z"
        },
        "id": "_2nNUehsP2MT",
        "outputId": "3c2e376c-2ece-4f98-f1ea-8e8360bea71b",
        "tags": []
      },
      "outputs": [
        {
          "data": {
            "text/plain": [
              "(0, 'Бетон')"
            ]
          },
          "execution_count": 14,
          "metadata": {},
          "output_type": "execute_result"
        }
      ],
      "source": [
        "dataset_train[0]['label'], labels.names[dataset_train[0]['label']]"
      ]
    },
    {
      "cell_type": "code",
      "execution_count": null,
      "metadata": {
        "colab": {
          "base_uri": "https://localhost:8080/"
        },
        "execution": {
          "iopub.execute_input": "2023-11-24T20:50:24.869207Z",
          "iopub.status.busy": "2023-11-24T20:50:24.868320Z",
          "iopub.status.idle": "2023-11-24T20:50:24.885561Z",
          "shell.execute_reply": "2023-11-24T20:50:24.884634Z",
          "shell.execute_reply.started": "2023-11-24T20:50:24.869155Z"
        },
        "id": "L4bfbQxSPn2-",
        "outputId": "df998ad4-c4b7-47d3-99f4-d5015f221b38"
      },
      "outputs": [
        {
          "data": {
            "text/plain": [
              "Dataset({\n",
              "    features: ['image', 'label'],\n",
              "    num_rows: 2050\n",
              "})"
            ]
          },
          "execution_count": 9,
          "metadata": {},
          "output_type": "execute_result"
        }
      ],
      "source": [
        "dataset_test"
      ]
    },
    {
      "cell_type": "markdown",
      "metadata": {
        "id": "o2LJPHG0P2MU"
      },
      "source": [
        "### Loading ViT Feature Extractor"
      ]
    },
    {
      "cell_type": "code",
      "execution_count": null,
      "metadata": {
        "colab": {
          "base_uri": "https://localhost:8080/",
          "referenced_widgets": [
            "b8589a1d65f840a09bf6cce67fd7bb4c"
          ]
        },
        "execution": {
          "iopub.execute_input": "2023-11-25T03:19:33.870486Z",
          "iopub.status.busy": "2023-11-25T03:19:33.869391Z",
          "iopub.status.idle": "2023-11-25T03:19:40.008746Z",
          "shell.execute_reply": "2023-11-25T03:19:40.007632Z",
          "shell.execute_reply.started": "2023-11-25T03:19:33.870431Z"
        },
        "id": "V72HGoAZP2MV",
        "outputId": "bf3621d3-640f-4f76-aae5-f20f77383cb5",
        "tags": []
      },
      "outputs": [
        {
          "name": "stderr",
          "output_type": "stream",
          "text": [
            "2023-11-25 03:19:38.573941: W tensorflow/compiler/tf2tensorrt/utils/py_utils.cc:38] TF-TRT Warning: Could not find TensorRT\n"
          ]
        },
        {
          "data": {
            "application/vnd.jupyter.widget-view+json": {
              "model_id": "b8589a1d65f840a09bf6cce67fd7bb4c",
              "version_major": 2,
              "version_minor": 0
            },
            "text/plain": [
              "preprocessor_config.json:   0%|          | 0.00/160 [00:00<?, ?B/s]"
            ]
          },
          "metadata": {},
          "output_type": "display_data"
        },
        {
          "name": "stderr",
          "output_type": "stream",
          "text": [
            "/home/jupyter/.local/lib/python3.10/site-packages/transformers/models/vit/feature_extraction_vit.py:28: FutureWarning: The class ViTFeatureExtractor is deprecated and will be removed in version 5 of Transformers. Please use ViTImageProcessor instead.\n",
            "  warnings.warn(\n"
          ]
        }
      ],
      "source": [
        "from transformers import ViTFeatureExtractor\n",
        "\n",
        "# import model\n",
        "model_id = 'facebook/deit-base-patch16-384'\n",
        "feature_extractor = ViTFeatureExtractor.from_pretrained(\n",
        "    model_id\n",
        ")"
      ]
    },
    {
      "cell_type": "code",
      "execution_count": null,
      "metadata": {
        "colab": {
          "base_uri": "https://localhost:8080/"
        },
        "execution": {
          "iopub.execute_input": "2023-11-25T03:19:44.461647Z",
          "iopub.status.busy": "2023-11-25T03:19:44.460336Z",
          "iopub.status.idle": "2023-11-25T03:19:44.475763Z",
          "shell.execute_reply": "2023-11-25T03:19:44.474762Z",
          "shell.execute_reply.started": "2023-11-25T03:19:44.461611Z"
        },
        "id": "7v-rKMHsP2MW",
        "outputId": "7d482578-a97b-40c2-8496-2f2be5fd5cb0",
        "tags": []
      },
      "outputs": [
        {
          "data": {
            "text/plain": [
              "ViTFeatureExtractor {\n",
              "  \"do_normalize\": true,\n",
              "  \"do_rescale\": true,\n",
              "  \"do_resize\": true,\n",
              "  \"image_mean\": [\n",
              "    0.5,\n",
              "    0.5,\n",
              "    0.5\n",
              "  ],\n",
              "  \"image_processor_type\": \"ViTFeatureExtractor\",\n",
              "  \"image_std\": [\n",
              "    0.5,\n",
              "    0.5,\n",
              "    0.5\n",
              "  ],\n",
              "  \"resample\": 2,\n",
              "  \"rescale_factor\": 0.00392156862745098,\n",
              "  \"size\": {\n",
              "    \"height\": 384,\n",
              "    \"width\": 384\n",
              "  }\n",
              "}"
            ]
          },
          "execution_count": 16,
          "metadata": {},
          "output_type": "execute_result"
        }
      ],
      "source": [
        "feature_extractor"
      ]
    },
    {
      "cell_type": "code",
      "execution_count": null,
      "metadata": {
        "colab": {
          "base_uri": "https://localhost:8080/"
        },
        "execution": {
          "iopub.execute_input": "2023-11-25T00:54:38.231233Z",
          "iopub.status.busy": "2023-11-25T00:54:38.230181Z",
          "iopub.status.idle": "2023-11-25T00:54:38.481018Z",
          "shell.execute_reply": "2023-11-25T00:54:38.479928Z",
          "shell.execute_reply.started": "2023-11-25T00:54:38.231177Z"
        },
        "id": "RlY0QgpqP2MY",
        "outputId": "1fd7eda7-a16f-4d93-db90-410e121ec58d",
        "tags": []
      },
      "outputs": [
        {
          "data": {
            "text/plain": [
              "{'pixel_values': tensor([[[[-0.7490, -0.7490, -0.7412,  ..., -0.3176, -0.3255, -0.3255],\n",
              "          [-0.7490, -0.7490, -0.7412,  ..., -0.3176, -0.3255, -0.3255],\n",
              "          [-0.8118, -0.8118, -0.8039,  ..., -0.3176, -0.3255, -0.3255],\n",
              "          ...,\n",
              "          [-0.1529, -0.1529, -0.1529,  ..., -0.2157, -0.2157, -0.2157],\n",
              "          [-0.1529, -0.1529, -0.1529,  ..., -0.2157, -0.2157, -0.2157],\n",
              "          [-0.1529, -0.1529, -0.1529,  ..., -0.2157, -0.2157, -0.2157]],\n",
              "\n",
              "         [[-0.7098, -0.7098, -0.7020,  ..., -0.0118, -0.0196, -0.0196],\n",
              "          [-0.7098, -0.7098, -0.7020,  ..., -0.0118, -0.0196, -0.0196],\n",
              "          [-0.7725, -0.7725, -0.7647,  ..., -0.0118, -0.0196, -0.0196],\n",
              "          ...,\n",
              "          [-0.1216, -0.1216, -0.1216,  ..., -0.2078, -0.2078, -0.2078],\n",
              "          [-0.1216, -0.1216, -0.1216,  ..., -0.2078, -0.2078, -0.2078],\n",
              "          [-0.1216, -0.1216, -0.1216,  ..., -0.2078, -0.2078, -0.2078]],\n",
              "\n",
              "         [[-0.6863, -0.6863, -0.6784,  ...,  0.0431,  0.0353,  0.0353],\n",
              "          [-0.6863, -0.6863, -0.6784,  ...,  0.0431,  0.0353,  0.0353],\n",
              "          [-0.7490, -0.7490, -0.7412,  ...,  0.0431,  0.0353,  0.0353],\n",
              "          ...,\n",
              "          [-0.1294, -0.1294, -0.1294,  ..., -0.1922, -0.1922, -0.1922],\n",
              "          [-0.1294, -0.1294, -0.1294,  ..., -0.1843, -0.1922, -0.1922],\n",
              "          [-0.1294, -0.1294, -0.1294,  ..., -0.1843, -0.1922, -0.1922]]]])}"
            ]
          },
          "execution_count": 7,
          "metadata": {},
          "output_type": "execute_result"
        }
      ],
      "source": [
        "example = feature_extractor(\n",
        "    dataset_train[0]['image'],\n",
        "    return_tensors='pt'\n",
        ")\n",
        "example"
      ]
    },
    {
      "cell_type": "code",
      "execution_count": null,
      "metadata": {
        "colab": {
          "base_uri": "https://localhost:8080/"
        },
        "execution": {
          "iopub.execute_input": "2023-11-24T21:00:37.953132Z",
          "iopub.status.busy": "2023-11-24T21:00:37.952299Z",
          "iopub.status.idle": "2023-11-24T21:00:37.974276Z",
          "shell.execute_reply": "2023-11-24T21:00:37.973438Z",
          "shell.execute_reply.started": "2023-11-24T21:00:37.953084Z"
        },
        "id": "2-8fsX_TP2MZ",
        "outputId": "f68d0b53-b3d5-4cd5-a493-b0d938d430a8",
        "tags": []
      },
      "outputs": [
        {
          "data": {
            "text/plain": [
              "torch.Size([1, 3, 384, 384])"
            ]
          },
          "execution_count": 8,
          "metadata": {},
          "output_type": "execute_result"
        }
      ],
      "source": [
        "example['pixel_values'].shape"
      ]
    },
    {
      "cell_type": "code",
      "execution_count": null,
      "metadata": {
        "colab": {
          "base_uri": "https://localhost:8080/"
        },
        "execution": {
          "iopub.execute_input": "2023-11-25T03:19:52.188071Z",
          "iopub.status.busy": "2023-11-25T03:19:52.187259Z",
          "iopub.status.idle": "2023-11-25T03:19:52.295756Z",
          "shell.execute_reply": "2023-11-25T03:19:52.294601Z",
          "shell.execute_reply.started": "2023-11-25T03:19:52.188036Z"
        },
        "id": "9-7JsTLsP2MZ",
        "outputId": "8329d6b2-f8e8-48ef-a8f6-9b8f75c9af86",
        "tags": []
      },
      "outputs": [
        {
          "data": {
            "text/plain": [
              "device(type='cuda')"
            ]
          },
          "execution_count": 17,
          "metadata": {},
          "output_type": "execute_result"
        }
      ],
      "source": [
        "import torch\n",
        "\n",
        "device = torch.device('cuda' if torch.cuda.is_available() else 'cpu')\n",
        "device"
      ]
    },
    {
      "cell_type": "code",
      "execution_count": null,
      "metadata": {
        "execution": {
          "iopub.execute_input": "2023-11-25T03:19:55.541071Z",
          "iopub.status.busy": "2023-11-25T03:19:55.540253Z",
          "iopub.status.idle": "2023-11-25T03:19:55.565382Z",
          "shell.execute_reply": "2023-11-25T03:19:55.563801Z",
          "shell.execute_reply.started": "2023-11-25T03:19:55.541036Z"
        },
        "id": "jKew1IkHP2Ma",
        "tags": []
      },
      "outputs": [],
      "source": [
        "def preprocess(batch):\n",
        "    inputs = feature_extractor(\n",
        "        batch['image'],\n",
        "        return_tensors='pt'\n",
        "    )\n",
        "    inputs['label'] = batch['label']\n",
        "    return inputs"
      ]
    },
    {
      "cell_type": "code",
      "execution_count": null,
      "metadata": {
        "execution": {
          "iopub.execute_input": "2023-11-25T03:19:59.070458Z",
          "iopub.status.busy": "2023-11-25T03:19:59.069775Z",
          "iopub.status.idle": "2023-11-25T03:19:59.181477Z",
          "shell.execute_reply": "2023-11-25T03:19:59.180404Z",
          "shell.execute_reply.started": "2023-11-25T03:19:59.070425Z"
        },
        "id": "_D_-akweP2Mb",
        "tags": [],
        "outputId": "9abd8252-bb98-4816-cc58-c9fd8fb62b86"
      },
      "outputs": [
        {
          "name": "stderr",
          "output_type": "stream",
          "text": [
            "Parameter 'transform'=<function preprocess at 0x7f8573993760> of the transform datasets.arrow_dataset.Dataset.set_format couldn't be hashed properly, a random hash was used instead. Make sure your transforms and parameters are serializable with pickle or dill for the dataset fingerprinting and caching to work. If you reuse this transform, the caching mechanism will consider it to be different from the previous calls and recompute everything. This warning is only showed once. Subsequent hashing failures won't be showed.\n"
          ]
        }
      ],
      "source": [
        "prepared_train = dataset_train.with_transform(preprocess)\n",
        "prepared_test = dataset_test.with_transform(preprocess)"
      ]
    },
    {
      "cell_type": "code",
      "execution_count": null,
      "metadata": {
        "execution": {
          "iopub.execute_input": "2023-11-25T03:20:06.231298Z",
          "iopub.status.busy": "2023-11-25T03:20:06.230385Z",
          "iopub.status.idle": "2023-11-25T03:20:06.245317Z",
          "shell.execute_reply": "2023-11-25T03:20:06.244237Z",
          "shell.execute_reply.started": "2023-11-25T03:20:06.231266Z"
        },
        "id": "ornqxX5CP2Mx",
        "tags": []
      },
      "outputs": [],
      "source": [
        "def collate_fn(batch):\n",
        "    return {\n",
        "        'pixel_values': torch.stack([x['pixel_values'] for x in batch]),\n",
        "        'labels': torch.tensor([x['label'] for x in batch])\n",
        "    }"
      ]
    },
    {
      "cell_type": "code",
      "execution_count": null,
      "metadata": {
        "colab": {
          "base_uri": "https://localhost:8080/",
          "referenced_widgets": [
            "7b1ba629a7b343d3bae575e5ae7878ac"
          ]
        },
        "execution": {
          "iopub.execute_input": "2023-11-25T03:20:09.670928Z",
          "iopub.status.busy": "2023-11-25T03:20:09.670175Z",
          "iopub.status.idle": "2023-11-25T03:20:11.236322Z",
          "shell.execute_reply": "2023-11-25T03:20:11.235203Z",
          "shell.execute_reply.started": "2023-11-25T03:20:09.670878Z"
        },
        "id": "75PrSbI0P2My",
        "outputId": "b29fb53b-0b78-4d98-a949-c013af54b1e1",
        "tags": []
      },
      "outputs": [
        {
          "name": "stderr",
          "output_type": "stream",
          "text": [
            "<ipython-input-21-11be3a050749>:5: FutureWarning: load_metric is deprecated and will be removed in the next major version of datasets. Use 'evaluate.load' instead, from the new library 🤗 Evaluate: https://huggingface.co/docs/evaluate\n",
            "  metric = load_metric(\"accuracy\")\n"
          ]
        },
        {
          "data": {
            "application/vnd.jupyter.widget-view+json": {
              "model_id": "7b1ba629a7b343d3bae575e5ae7878ac",
              "version_major": 2,
              "version_minor": 0
            },
            "text/plain": [
              "Downloading builder script:   0%|          | 0.00/1.65k [00:00<?, ?B/s]"
            ]
          },
          "metadata": {},
          "output_type": "display_data"
        }
      ],
      "source": [
        "import numpy as np\n",
        "from datasets import load_metric\n",
        "\n",
        "# accuracy metric\n",
        "metric = load_metric(\"accuracy\")\n",
        "def compute_metrics(p):\n",
        "    return metric.compute(\n",
        "        predictions=np.argmax(p.predictions, axis=1),\n",
        "        references=p.label_ids\n",
        "    )"
      ]
    },
    {
      "cell_type": "code",
      "execution_count": null,
      "metadata": {
        "colab": {
          "base_uri": "https://localhost:8080/"
        },
        "execution": {
          "iopub.execute_input": "2023-11-24T20:53:30.844208Z",
          "iopub.status.busy": "2023-11-24T20:53:30.843341Z",
          "iopub.status.idle": "2023-11-24T20:53:38.850520Z",
          "shell.execute_reply": "2023-11-24T20:53:38.849330Z",
          "shell.execute_reply.started": "2023-11-24T20:53:30.844161Z"
        },
        "id": "C_4WjZoKgmGL",
        "outputId": "55650ef9-5a71-4f36-e77f-e4600ecc0400",
        "tags": []
      },
      "outputs": [
        {
          "name": "stdout",
          "output_type": "stream",
          "text": [
            "Defaulting to user installation because normal site-packages is not writeable\n",
            "Collecting accelerate\n",
            "  Obtaining dependency information for accelerate from https://files.pythonhosted.org/packages/13/9e/ee987874058f2d93006961f6ff49e0bcb60ab9c26709ebe06bfa8707a4d8/accelerate-0.24.1-py3-none-any.whl.metadata\n",
            "  Downloading accelerate-0.24.1-py3-none-any.whl.metadata (18 kB)\n",
            "Requirement already satisfied: numpy>=1.17 in /usr/local/lib/python3.10/dist-packages (from accelerate) (1.22.4)\n",
            "Requirement already satisfied: packaging>=20.0 in /kernel/lib/python3.10/site-packages (from accelerate) (23.2)\n",
            "Requirement already satisfied: psutil in /kernel/lib/python3.10/site-packages (from accelerate) (5.7.3)\n",
            "Requirement already satisfied: pyyaml in /usr/local/lib/python3.10/dist-packages (from accelerate) (6.0.1)\n",
            "Requirement already satisfied: torch>=1.10.0 in /usr/local/lib/python3.10/dist-packages (from accelerate) (2.0.1+cu118)\n",
            "Requirement already satisfied: huggingface-hub in /home/jupyter/.local/lib/python3.10/site-packages (from accelerate) (0.19.4)\n",
            "Requirement already satisfied: filelock in /usr/local/lib/python3.10/dist-packages (from torch>=1.10.0->accelerate) (3.12.2)\n",
            "Requirement already satisfied: typing-extensions in /kernel/lib/python3.10/site-packages (from torch>=1.10.0->accelerate) (4.8.0)\n",
            "Requirement already satisfied: sympy in /usr/local/lib/python3.10/dist-packages (from torch>=1.10.0->accelerate) (1.11.1)\n",
            "Requirement already satisfied: networkx in /usr/local/lib/python3.10/dist-packages (from torch>=1.10.0->accelerate) (3.1)\n",
            "Requirement already satisfied: jinja2 in /kernel/lib/python3.10/site-packages (from torch>=1.10.0->accelerate) (3.1.2)\n",
            "Requirement already satisfied: triton==2.0.0 in /usr/local/lib/python3.10/dist-packages (from torch>=1.10.0->accelerate) (2.0.0)\n",
            "Requirement already satisfied: cmake in /usr/local/lib/python3.10/dist-packages (from triton==2.0.0->torch>=1.10.0->accelerate) (3.25.2)\n",
            "Requirement already satisfied: lit in /usr/local/lib/python3.10/dist-packages (from triton==2.0.0->torch>=1.10.0->accelerate) (16.0.6)\n",
            "Requirement already satisfied: fsspec>=2023.5.0 in /home/jupyter/.local/lib/python3.10/site-packages (from huggingface-hub->accelerate) (2023.10.0)\n",
            "Requirement already satisfied: requests in /usr/local/lib/python3.10/dist-packages (from huggingface-hub->accelerate) (2.27.1)\n",
            "Requirement already satisfied: tqdm>=4.42.1 in /usr/local/lib/python3.10/dist-packages (from huggingface-hub->accelerate) (4.65.0)\n",
            "Requirement already satisfied: MarkupSafe>=2.0 in /kernel/lib/python3.10/site-packages (from jinja2->torch>=1.10.0->accelerate) (2.1.3)\n",
            "Collecting urllib3<1.27,>=1.21.1 (from requests->huggingface-hub->accelerate)\n",
            "  Obtaining dependency information for urllib3<1.27,>=1.21.1 from https://files.pythonhosted.org/packages/b0/53/aa91e163dcfd1e5b82d8a890ecf13314e3e149c05270cc644581f77f17fd/urllib3-1.26.18-py2.py3-none-any.whl.metadata\n",
            "  Downloading urllib3-1.26.18-py2.py3-none-any.whl.metadata (48 kB)\n",
            "\u001b[2K     \u001b[90m━━━━━━━━━━━━━━━━━━━━━━━━━━━━━━━━━━━━━━━\u001b[0m \u001b[32m48.9/48.9 kB\u001b[0m \u001b[31m808.7 kB/s\u001b[0m eta \u001b[36m0:00:00\u001b[0m \u001b[36m0:00:01\u001b[0m\n",
            "\u001b[?25hRequirement already satisfied: certifi>=2017.4.17 in /kernel/lib/python3.10/site-packages (from requests->huggingface-hub->accelerate) (2023.7.22)\n",
            "Collecting charset-normalizer~=2.0.0 (from requests->huggingface-hub->accelerate)\n",
            "  Downloading charset_normalizer-2.0.12-py3-none-any.whl (39 kB)\n",
            "Requirement already satisfied: idna<4,>=2.5 in /kernel/lib/python3.10/site-packages (from requests->huggingface-hub->accelerate) (3.4)\n",
            "Requirement already satisfied: mpmath>=0.19 in /usr/local/lib/python3.10/dist-packages (from sympy->torch>=1.10.0->accelerate) (1.3.0)\n",
            "Downloading accelerate-0.24.1-py3-none-any.whl (261 kB)\n",
            "\u001b[2K   \u001b[90m━━━━━━━━━━━━━━━━━━━━━━━━━━━━━━━━━━━━━━━━\u001b[0m \u001b[32m261.4/261.4 kB\u001b[0m \u001b[31m2.8 MB/s\u001b[0m eta \u001b[36m0:00:00\u001b[0ma \u001b[36m0:00:01\u001b[0m\n",
            "\u001b[?25hDownloading urllib3-1.26.18-py2.py3-none-any.whl (143 kB)\n",
            "\u001b[2K   \u001b[90m━━━━━━━━━━━━━━━━━━━━━━━━━━━━━━━━━━━━━━━━\u001b[0m \u001b[32m143.8/143.8 kB\u001b[0m \u001b[31m9.1 MB/s\u001b[0m eta \u001b[36m0:00:00\u001b[0m\n",
            "\u001b[?25hInstalling collected packages: urllib3, charset-normalizer, accelerate\n",
            "\u001b[33m  WARNING: The script normalizer is installed in '/home/jupyter/.local/bin' which is not on PATH.\n",
            "  Consider adding this directory to PATH or, if you prefer to suppress this warning, use --no-warn-script-location.\u001b[0m\u001b[33m\n",
            "\u001b[0m\u001b[33m  WARNING: The scripts accelerate, accelerate-config, accelerate-estimate-memory and accelerate-launch are installed in '/home/jupyter/.local/bin' which is not on PATH.\n",
            "  Consider adding this directory to PATH or, if you prefer to suppress this warning, use --no-warn-script-location.\u001b[0m\u001b[33m\n",
            "\u001b[0m\u001b[31mERROR: pip's dependency resolver does not currently take into account all the packages that are installed. This behaviour is the source of the following dependency conflicts.\n",
            "boto3 1.20.24 requires botocore<1.24.0,>=1.23.24, but you have botocore 1.31.64 which is incompatible.\n",
            "cloud-ml 0.0.1 requires s3fs<=0.5.2,>=0.4.1, but you have s3fs 2023.10.0 which is incompatible.\n",
            "gcsfs 2023.6.0 requires fsspec==2023.6.0, but you have fsspec 2023.10.0 which is incompatible.\u001b[0m\u001b[31m\n",
            "\u001b[0mSuccessfully installed accelerate-0.24.1 charset-normalizer-2.0.12 urllib3-1.26.18\n",
            "\n",
            "\u001b[1m[\u001b[0m\u001b[34;49mnotice\u001b[0m\u001b[1;39;49m]\u001b[0m\u001b[39;49m A new release of pip is available: \u001b[0m\u001b[31;49m23.2.1\u001b[0m\u001b[39;49m -> \u001b[0m\u001b[32;49m23.3.1\u001b[0m\n",
            "\u001b[1m[\u001b[0m\u001b[34;49mnotice\u001b[0m\u001b[1;39;49m]\u001b[0m\u001b[39;49m To update, run: \u001b[0m\u001b[32;49mpython3 -m pip install --upgrade pip\u001b[0m\n"
          ]
        }
      ],
      "source": [
        "%pip install accelerate -U"
      ]
    },
    {
      "cell_type": "code",
      "execution_count": null,
      "metadata": {
        "execution": {
          "iopub.execute_input": "2023-11-25T03:20:31.010564Z",
          "iopub.status.busy": "2023-11-25T03:20:31.009592Z",
          "iopub.status.idle": "2023-11-25T03:20:31.317038Z",
          "shell.execute_reply": "2023-11-25T03:20:31.315676Z",
          "shell.execute_reply.started": "2023-11-25T03:20:31.010523Z"
        },
        "id": "I9zZoJIoP2Mz",
        "tags": []
      },
      "outputs": [],
      "source": [
        "from transformers import TrainingArguments\n",
        "\n",
        "training_args = TrainingArguments(\n",
        "  output_dir=\"./shuffle_model\",\n",
        "  per_device_train_batch_size=48,\n",
        "  evaluation_strategy=\"steps\",\n",
        "  num_train_epochs=10,\n",
        "  save_steps=100,\n",
        "  eval_steps=100,\n",
        "  logging_steps=10,\n",
        "  learning_rate=2e-4,\n",
        "  save_total_limit=2,\n",
        "  remove_unused_columns=False,\n",
        "  push_to_hub=False,\n",
        "  load_best_model_at_end=True,\n",
        ")"
      ]
    },
    {
      "cell_type": "code",
      "execution_count": null,
      "metadata": {
        "execution": {
          "iopub.execute_input": "2023-11-25T03:20:34.442404Z",
          "iopub.status.busy": "2023-11-25T03:20:34.441570Z",
          "iopub.status.idle": "2023-11-25T03:20:34.459680Z",
          "shell.execute_reply": "2023-11-25T03:20:34.458426Z",
          "shell.execute_reply.started": "2023-11-25T03:20:34.442360Z"
        },
        "tags": [],
        "id": "f4zAJYCIC_iv"
      },
      "outputs": [],
      "source": [
        "from transformers import EarlyStoppingCallback, IntervalStrategy"
      ]
    },
    {
      "cell_type": "code",
      "execution_count": null,
      "metadata": {
        "colab": {
          "base_uri": "https://localhost:8080/",
          "height": 170,
          "referenced_widgets": [
            "4e2fe900776f4e41b91ecdf81e8c197e",
            "ec01ca9fd8b546a587a4f2de5a8718ae",
            "de18a025ef194698b1f014cc0073329c",
            "7b9615c828044c2284afab0a2f1c1c92",
            "9483863c56884a148c139e193b377a31",
            "2eeac8d429614ada8477dbfded13f3b4",
            "6098c6500d5146aca2aa5af472495cd3",
            "17fb14d5b0c04cfb9996b8a9da3ab9ac",
            "30ea3018873b4051b513c6e22e2f98f7",
            "67ee472d8be7413a87729acff6934a74",
            "b2a8f6ed825648e097823d174449c5b4",
            "e9585615b390453e9cdb341f6d78e77d",
            "ea436dd8e0574860a66644a3a409c231",
            "9def750bea5b430c99f4d6c65d44715a",
            "0062b5a326ca4d62bd0c17272b55512f",
            "f06bc65c11014082b660a7b4f88306cc",
            "986e33e699dd459194881d62b9d691ea",
            "cb3bdbea3605432caa5505c42eb44286",
            "2bcede0a6fbd40b585b176f0a08e9914",
            "ca9688b901c84f549a1cb636e06e73c6",
            "533b6d2f85b04b89a68f79477145df5d",
            "f53a12af66c048328e96a783ffa02603",
            "47407e8c56954908a5b08304260f34a1",
            "f4bed477b68e4998b11995d8e8f5f32d"
          ]
        },
        "execution": {
          "iopub.execute_input": "2023-11-25T03:20:42.354681Z",
          "iopub.status.busy": "2023-11-25T03:20:42.353473Z",
          "iopub.status.idle": "2023-11-25T03:20:53.164268Z",
          "shell.execute_reply": "2023-11-25T03:20:53.163043Z",
          "shell.execute_reply.started": "2023-11-25T03:20:42.354634Z"
        },
        "id": "vWZBPcQDP2M0",
        "outputId": "9ce8ff62-e682-455b-d133-b87a92283b69",
        "tags": []
      },
      "outputs": [
        {
          "data": {
            "application/vnd.jupyter.widget-view+json": {
              "model_id": "47407e8c56954908a5b08304260f34a1",
              "version_major": 2,
              "version_minor": 0
            },
            "text/plain": [
              "config.json:   0%|          | 0.00/69.6k [00:00<?, ?B/s]"
            ]
          },
          "metadata": {},
          "output_type": "display_data"
        },
        {
          "data": {
            "application/vnd.jupyter.widget-view+json": {
              "model_id": "f4bed477b68e4998b11995d8e8f5f32d",
              "version_major": 2,
              "version_minor": 0
            },
            "text/plain": [
              "pytorch_model.bin:   0%|          | 0.00/348M [00:00<?, ?B/s]"
            ]
          },
          "metadata": {},
          "output_type": "display_data"
        },
        {
          "name": "stderr",
          "output_type": "stream",
          "text": [
            "Some weights of ViTForImageClassification were not initialized from the model checkpoint at facebook/deit-base-patch16-384 and are newly initialized because the shapes did not match:\n",
            "- classifier.weight: found shape torch.Size([1000, 768]) in the checkpoint and torch.Size([4, 768]) in the model instantiated\n",
            "- classifier.bias: found shape torch.Size([1000]) in the checkpoint and torch.Size([4]) in the model instantiated\n",
            "You should probably TRAIN this model on a down-stream task to be able to use it for predictions and inference.\n"
          ]
        }
      ],
      "source": [
        "from transformers import ViTForImageClassification\n",
        "\n",
        "labels = dataset_train.features['label'].names\n",
        "\n",
        "model = ViTForImageClassification.from_pretrained(\n",
        "    model_id,  # classification head\n",
        "    num_labels=len(labels),\n",
        "    ignore_mismatched_sizes = True\n",
        ")"
      ]
    },
    {
      "cell_type": "code",
      "execution_count": null,
      "metadata": {
        "colab": {
          "base_uri": "https://localhost:8080/"
        },
        "execution": {
          "iopub.execute_input": "2023-11-25T03:21:19.459608Z",
          "iopub.status.busy": "2023-11-25T03:21:19.458459Z",
          "iopub.status.idle": "2023-11-25T03:21:21.461438Z",
          "shell.execute_reply": "2023-11-25T03:21:21.460253Z",
          "shell.execute_reply.started": "2023-11-25T03:21:19.459524Z"
        },
        "id": "UV8WswxtP2M0",
        "outputId": "03254b24-a4e2-4a08-c08e-7b1e9122b45e",
        "tags": []
      },
      "outputs": [
        {
          "data": {
            "text/plain": [
              "ViTForImageClassification(\n",
              "  (vit): ViTModel(\n",
              "    (embeddings): ViTEmbeddings(\n",
              "      (patch_embeddings): ViTPatchEmbeddings(\n",
              "        (projection): Conv2d(3, 768, kernel_size=(16, 16), stride=(16, 16))\n",
              "      )\n",
              "      (dropout): Dropout(p=0.0, inplace=False)\n",
              "    )\n",
              "    (encoder): ViTEncoder(\n",
              "      (layer): ModuleList(\n",
              "        (0-11): 12 x ViTLayer(\n",
              "          (attention): ViTAttention(\n",
              "            (attention): ViTSelfAttention(\n",
              "              (query): Linear(in_features=768, out_features=768, bias=True)\n",
              "              (key): Linear(in_features=768, out_features=768, bias=True)\n",
              "              (value): Linear(in_features=768, out_features=768, bias=True)\n",
              "              (dropout): Dropout(p=0.0, inplace=False)\n",
              "            )\n",
              "            (output): ViTSelfOutput(\n",
              "              (dense): Linear(in_features=768, out_features=768, bias=True)\n",
              "              (dropout): Dropout(p=0.0, inplace=False)\n",
              "            )\n",
              "          )\n",
              "          (intermediate): ViTIntermediate(\n",
              "            (dense): Linear(in_features=768, out_features=3072, bias=True)\n",
              "            (intermediate_act_fn): GELUActivation()\n",
              "          )\n",
              "          (output): ViTOutput(\n",
              "            (dense): Linear(in_features=3072, out_features=768, bias=True)\n",
              "            (dropout): Dropout(p=0.0, inplace=False)\n",
              "          )\n",
              "          (layernorm_before): LayerNorm((768,), eps=1e-12, elementwise_affine=True)\n",
              "          (layernorm_after): LayerNorm((768,), eps=1e-12, elementwise_affine=True)\n",
              "        )\n",
              "      )\n",
              "    )\n",
              "    (layernorm): LayerNorm((768,), eps=1e-12, elementwise_affine=True)\n",
              "  )\n",
              "  (classifier): Linear(in_features=768, out_features=4, bias=True)\n",
              ")"
            ]
          },
          "execution_count": 25,
          "metadata": {},
          "output_type": "execute_result"
        }
      ],
      "source": [
        "model.to(device)"
      ]
    },
    {
      "cell_type": "code",
      "execution_count": null,
      "metadata": {
        "execution": {
          "iopub.execute_input": "2023-11-25T03:23:02.405983Z",
          "iopub.status.busy": "2023-11-25T03:23:02.405002Z",
          "iopub.status.idle": "2023-11-25T03:23:02.446275Z",
          "shell.execute_reply": "2023-11-25T03:23:02.445120Z",
          "shell.execute_reply.started": "2023-11-25T03:23:02.405931Z"
        },
        "id": "vZJJWXl3P2M_",
        "tags": []
      },
      "outputs": [],
      "source": [
        "from transformers import Trainer\n",
        "\n",
        "trainer = Trainer(\n",
        "    model=model,\n",
        "    args=training_args,\n",
        "    data_collator=collate_fn,\n",
        "    compute_metrics=compute_metrics,\n",
        "    train_dataset=prepared_train,\n",
        "    eval_dataset=prepared_test,\n",
        "    tokenizer=feature_extractor,\n",
        "    callbacks=[EarlyStoppingCallback(early_stopping_patience=7)]\n",
        ")"
      ]
    },
    {
      "cell_type": "code",
      "execution_count": null,
      "metadata": {
        "colab": {
          "base_uri": "https://localhost:8080/",
          "height": 197
        },
        "execution": {
          "iopub.execute_input": "2023-11-25T03:23:05.691522Z",
          "iopub.status.busy": "2023-11-25T03:23:05.690566Z",
          "iopub.status.idle": "2023-11-25T04:51:44.984568Z",
          "shell.execute_reply": "2023-11-25T04:51:44.983406Z",
          "shell.execute_reply.started": "2023-11-25T03:23:05.691482Z"
        },
        "id": "pvrfKp8OP2NA",
        "outputId": "eda49dc3-45f0-4683-840e-d1ef15e436a9",
        "tags": []
      },
      "outputs": [
        {
          "data": {
            "text/html": [
              "\n",
              "    <div>\n",
              "      \n",
              "      <progress value='1710' max='1710' style='width:300px; height:20px; vertical-align: middle;'></progress>\n",
              "      [1710/1710 1:28:30, Epoch 10/10]\n",
              "    </div>\n",
              "    <table border=\"1\" class=\"dataframe\">\n",
              "  <thead>\n",
              " <tr style=\"text-align: left;\">\n",
              "      <th>Step</th>\n",
              "      <th>Training Loss</th>\n",
              "      <th>Validation Loss</th>\n",
              "      <th>Accuracy</th>\n",
              "    </tr>\n",
              "  </thead>\n",
              "  <tbody>\n",
              "    <tr>\n",
              "      <td>100</td>\n",
              "      <td>0.148400</td>\n",
              "      <td>0.166520</td>\n",
              "      <td>0.941004</td>\n",
              "    </tr>\n",
              "    <tr>\n",
              "      <td>200</td>\n",
              "      <td>0.053000</td>\n",
              "      <td>0.107893</td>\n",
              "      <td>0.963920</td>\n",
              "    </tr>\n",
              "    <tr>\n",
              "      <td>300</td>\n",
              "      <td>0.084700</td>\n",
              "      <td>0.110252</td>\n",
              "      <td>0.962457</td>\n",
              "    </tr>\n",
              "    <tr>\n",
              "      <td>400</td>\n",
              "      <td>0.038800</td>\n",
              "      <td>0.072418</td>\n",
              "      <td>0.975622</td>\n",
              "    </tr>\n",
              "    <tr>\n",
              "      <td>500</td>\n",
              "      <td>0.065000</td>\n",
              "      <td>0.058506</td>\n",
              "      <td>0.981960</td>\n",
              "    </tr>\n",
              "    <tr>\n",
              "      <td>600</td>\n",
              "      <td>0.009400</td>\n",
              "      <td>0.095275</td>\n",
              "      <td>0.973184</td>\n",
              "    </tr>\n",
              "    <tr>\n",
              "      <td>700</td>\n",
              "      <td>0.001400</td>\n",
              "      <td>0.034221</td>\n",
              "      <td>0.989274</td>\n",
              "    </tr>\n",
              "    <tr>\n",
              "      <td>800</td>\n",
              "      <td>0.015700</td>\n",
              "      <td>0.079692</td>\n",
              "      <td>0.978059</td>\n",
              "    </tr>\n",
              "    <tr>\n",
              "      <td>900</td>\n",
              "      <td>0.000700</td>\n",
              "      <td>0.040046</td>\n",
              "      <td>0.988786</td>\n",
              "    </tr>\n",
              "    <tr>\n",
              "      <td>1000</td>\n",
              "      <td>0.000300</td>\n",
              "      <td>0.026234</td>\n",
              "      <td>0.991711</td>\n",
              "    </tr>\n",
              "    <tr>\n",
              "      <td>1100</td>\n",
              "      <td>0.000100</td>\n",
              "      <td>0.025800</td>\n",
              "      <td>0.991224</td>\n",
              "    </tr>\n",
              "    <tr>\n",
              "      <td>1200</td>\n",
              "      <td>0.000100</td>\n",
              "      <td>0.028597</td>\n",
              "      <td>0.989761</td>\n",
              "    </tr>\n",
              "    <tr>\n",
              "      <td>1300</td>\n",
              "      <td>0.000100</td>\n",
              "      <td>0.023776</td>\n",
              "      <td>0.991711</td>\n",
              "    </tr>\n",
              "    <tr>\n",
              "      <td>1400</td>\n",
              "      <td>0.000000</td>\n",
              "      <td>0.020827</td>\n",
              "      <td>0.991711</td>\n",
              "    </tr>\n",
              "    <tr>\n",
              "      <td>1500</td>\n",
              "      <td>0.000100</td>\n",
              "      <td>0.020875</td>\n",
              "      <td>0.991711</td>\n",
              "    </tr>\n",
              "    <tr>\n",
              "      <td>1600</td>\n",
              "      <td>0.000000</td>\n",
              "      <td>0.020721</td>\n",
              "      <td>0.991711</td>\n",
              "    </tr>\n",
              "    <tr>\n",
              "      <td>1700</td>\n",
              "      <td>0.000000</td>\n",
              "      <td>0.020704</td>\n",
              "      <td>0.991711</td>\n",
              "    </tr>\n",
              "  </tbody>\n",
              "</table><p>"
            ],
            "text/plain": [
              "<IPython.core.display.HTML object>"
            ]
          },
          "metadata": {},
          "output_type": "display_data"
        },
        {
          "name": "stdout",
          "output_type": "stream",
          "text": [
            "***** train metrics *****\n",
            "  epoch                    =          10.0\n",
            "  total_flos               = 17453101837GF\n",
            "  train_loss               =        0.0474\n",
            "  train_runtime            =    1:28:35.33\n",
            "  train_samples_per_second =        15.429\n",
            "  train_steps_per_second   =         0.322\n"
          ]
        }
      ],
      "source": [
        "train_results = trainer.train()\n",
        "# save tokenizer with the model\n",
        "trainer.save_model()\n",
        "trainer.log_metrics(\"train\", train_results.metrics)\n",
        "trainer.save_metrics(\"train\", train_results.metrics)\n",
        "# save the trainer state\n",
        "trainer.save_state()"
      ]
    },
    {
      "cell_type": "code",
      "execution_count": null,
      "metadata": {
        "id": "xHYS40jit9pL"
      },
      "outputs": [],
      "source": [
        "model.save_pretrained(\"/content/model\")"
      ]
    },
    {
      "cell_type": "markdown",
      "metadata": {
        "id": "CNs6x3M2P2NA"
      },
      "source": [
        "#### Model Evaluation"
      ]
    },
    {
      "cell_type": "markdown",
      "metadata": {
        "id": "CdDZRGinP2NA"
      },
      "source": [
        "We can now evaluate our model using the accuracy metric defined above..."
      ]
    },
    {
      "cell_type": "code",
      "execution_count": null,
      "metadata": {
        "colab": {
          "base_uri": "https://localhost:8080/",
          "height": 158
        },
        "execution": {
          "iopub.execute_input": "2023-11-25T04:51:59.563318Z",
          "iopub.status.busy": "2023-11-25T04:51:59.562246Z",
          "iopub.status.idle": "2023-11-25T04:52:54.934886Z",
          "shell.execute_reply": "2023-11-25T04:52:54.933817Z",
          "shell.execute_reply.started": "2023-11-25T04:51:59.563278Z"
        },
        "id": "u6wiiRM8P2NB",
        "outputId": "743ee2fd-cc30-4d9f-d02d-f1040cfb3df3",
        "tags": []
      },
      "outputs": [
        {
          "data": {
            "text/html": [
              "\n",
              "    <div>\n",
              "      \n",
              "      <progress value='257' max='257' style='width:300px; height:20px; vertical-align: middle;'></progress>\n",
              "      [257/257 00:54]\n",
              "    </div>\n",
              "    "
            ],
            "text/plain": [
              "<IPython.core.display.HTML object>"
            ]
          },
          "metadata": {},
          "output_type": "display_data"
        },
        {
          "name": "stdout",
          "output_type": "stream",
          "text": [
            "***** eval metrics *****\n",
            "  epoch                   =       10.0\n",
            "  eval_accuracy           =     0.9917\n",
            "  eval_loss               =     0.0207\n",
            "  eval_runtime            = 0:00:55.33\n",
            "  eval_samples_per_second =     37.064\n",
            "  eval_steps_per_second   =      4.644\n"
          ]
        }
      ],
      "source": [
        "metrics = trainer.evaluate(prepared_test)\n",
        "trainer.log_metrics(\"eval\", metrics)\n",
        "trainer.save_metrics(\"eval\", metrics)"
      ]
    },
    {
      "cell_type": "code",
      "execution_count": null,
      "metadata": {
        "colab": {
          "base_uri": "https://localhost:8080/",
          "height": 217
        },
        "execution": {
          "iopub.execute_input": "2023-11-25T04:53:06.734745Z",
          "iopub.status.busy": "2023-11-25T04:53:06.733753Z",
          "iopub.status.idle": "2023-11-25T04:53:08.706206Z",
          "shell.execute_reply": "2023-11-25T04:53:08.704980Z",
          "shell.execute_reply.started": "2023-11-25T04:53:06.734692Z"
        },
        "id": "Vc9EjCMGP2NB",
        "outputId": "50db4224-1db3-4ba4-fa58-aff8198e945a",
        "tags": []
      },
      "outputs": [
        {
          "data": {
            "image/jpeg": "[encoded data removed]",
            "image/png": "[encoded data removed]",
            "text/plain": [
              "<PIL.Image.Image image mode=RGB size=200x200>"
            ]
          },
          "execution_count": 30,
          "metadata": {},
          "output_type": "execute_result"
        }
      ],
      "source": [
        "image = dataset_test[\"image\"][1325].resize((200,200))\n",
        "image"
      ]
    },
    {
      "cell_type": "code",
      "execution_count": null,
      "metadata": {
        "colab": {
          "base_uri": "https://localhost:8080/"
        },
        "execution": {
          "iopub.execute_input": "2023-11-25T05:44:12.807621Z",
          "iopub.status.busy": "2023-11-25T05:44:12.806573Z",
          "iopub.status.idle": "2023-11-25T05:44:12.837895Z",
          "shell.execute_reply": "2023-11-25T05:44:12.836837Z",
          "shell.execute_reply.started": "2023-11-25T05:44:12.807562Z"
        },
        "id": "FrDqwAiFP2NM",
        "outputId": "931d1812-07c1-41bd-bfc5-903541995e8f",
        "tags": []
      },
      "outputs": [
        {
          "data": {
            "text/plain": [
              "(1, 'Грунт')"
            ]
          },
          "execution_count": 40,
          "metadata": {},
          "output_type": "execute_result"
        }
      ],
      "source": [
        "actual_label = dataset_test[\"label\"][1325]\n",
        "\n",
        "labels = dataset_test.features['label']\n",
        "actual_label, labels.names[actual_label]\n"
      ]
    },
    {
      "cell_type": "code",
      "execution_count": null,
      "metadata": {
        "execution": {
          "iopub.execute_input": "2023-11-25T07:04:57.649099Z",
          "iopub.status.busy": "2023-11-25T07:04:57.648052Z",
          "iopub.status.idle": "2023-11-25T07:04:57.678700Z",
          "shell.execute_reply": "2023-11-25T07:04:57.677474Z",
          "shell.execute_reply.started": "2023-11-25T07:04:57.649062Z"
        },
        "id": "Jnm6j0kiC_i8",
        "outputId": "94653772-7870-4053-cfeb-4934bc88a237"
      },
      "outputs": [
        {
          "data": {
            "text/plain": [
              "ViTConfig {\n",
              "  \"_name_or_path\": \"facebook/deit-base-patch16-384\",\n",
              "  \"architectures\": [\n",
              "    \"ViTForImageClassification\"\n",
              "  ],\n",
              "  \"attention_probs_dropout_prob\": 0.0,\n",
              "  \"encoder_stride\": 16,\n",
              "  \"hidden_act\": \"gelu\",\n",
              "  \"hidden_dropout_prob\": 0.0,\n",
              "  \"hidden_size\": 768,\n",
              "  \"id2label\": {\n",
              "    \"0\": \"LABEL_0\",\n",
              "    \"1\": \"LABEL_1\",\n",
              "    \"2\": \"LABEL_2\",\n",
              "    \"3\": \"LABEL_3\"\n",
              "  },\n",
              "  \"image_size\": 384,\n",
              "  \"initializer_range\": 0.02,\n",
              "  \"intermediate_size\": 3072,\n",
              "  \"label2id\": {\n",
              "    \"LABEL_0\": 0,\n",
              "    \"LABEL_1\": 1,\n",
              "    \"LABEL_2\": 2,\n",
              "    \"LABEL_3\": 3\n",
              "  },\n",
              "  \"layer_norm_eps\": 1e-12,\n",
              "  \"model_type\": \"vit\",\n",
              "  \"num_attention_heads\": 12,\n",
              "  \"num_channels\": 3,\n",
              "  \"num_hidden_layers\": 12,\n",
              "  \"patch_size\": 16,\n",
              "  \"problem_type\": \"single_label_classification\",\n",
              "  \"qkv_bias\": true,\n",
              "  \"torch_dtype\": \"float32\",\n",
              "  \"transformers_version\": \"4.35.2\"\n",
              "}"
            ]
          },
          "execution_count": 43,
          "metadata": {},
          "output_type": "execute_result"
        }
      ],
      "source": [
        "model.config"
      ]
    },
    {
      "cell_type": "code",
      "execution_count": null,
      "metadata": {
        "execution": {
          "iopub.execute_input": "2023-11-25T06:02:15.682109Z",
          "iopub.status.busy": "2023-11-25T06:02:15.681078Z",
          "iopub.status.idle": "2023-11-25T06:02:15.718841Z",
          "shell.execute_reply": "2023-11-25T06:02:15.717677Z",
          "shell.execute_reply.started": "2023-11-25T06:02:15.682065Z"
        },
        "tags": [],
        "id": "txVzAjS7C_i9"
      },
      "outputs": [],
      "source": [
        "dataset_test['label']"
      ]
    },
    {
      "cell_type": "code",
      "execution_count": null,
      "metadata": {
        "colab": {
          "base_uri": "https://localhost:8080/"
        },
        "execution": {
          "iopub.execute_input": "2023-11-25T04:54:29.212491Z",
          "iopub.status.busy": "2023-11-25T04:54:29.211583Z",
          "iopub.status.idle": "2023-11-25T04:54:30.187563Z",
          "shell.execute_reply": "2023-11-25T04:54:30.186466Z",
          "shell.execute_reply.started": "2023-11-25T04:54:29.212443Z"
        },
        "id": "hoFGlupFP2NN",
        "outputId": "73ea81d2-abbc-402a-a381-77571ecf63c0",
        "tags": []
      },
      "outputs": [
        {
          "name": "stderr",
          "output_type": "stream",
          "text": [
            "/home/jupyter/.local/lib/python3.10/site-packages/transformers/models/vit/feature_extraction_vit.py:28: FutureWarning: The class ViTFeatureExtractor is deprecated and will be removed in version 5 of Transformers. Please use ViTImageProcessor instead.\n",
            "  warnings.warn(\n"
          ]
        }
      ],
      "source": [
        "from transformers import ViTForImageClassification, ViTFeatureExtractor\n",
        "\n",
        "# import our fine-tuned model\n",
        "model_name_or_path = '/home/jupyter/datasphere/project/shuffle_model'\n",
        "model_finetuned = ViTForImageClassification.from_pretrained(model_name_or_path)\n",
        "# import features\n",
        "feature_extractor_finetuned = ViTFeatureExtractor.from_pretrained(model_name_or_path)"
      ]
    },
    {
      "cell_type": "code",
      "execution_count": null,
      "metadata": {
        "execution": {
          "iopub.execute_input": "2023-11-25T04:54:36.149394Z",
          "iopub.status.busy": "2023-11-25T04:54:36.148502Z",
          "iopub.status.idle": "2023-11-25T04:54:36.755975Z",
          "shell.execute_reply": "2023-11-25T04:54:36.754625Z",
          "shell.execute_reply.started": "2023-11-25T04:54:36.149358Z"
        },
        "id": "DuIE1IIuP2NN",
        "tags": []
      },
      "outputs": [],
      "source": [
        "inputs = feature_extractor_finetuned(image, return_tensors=\"pt\")\n",
        "\n",
        "with torch.no_grad():\n",
        "    logits = model_finetuned(**inputs).logits"
      ]
    },
    {
      "cell_type": "code",
      "execution_count": null,
      "metadata": {
        "colab": {
          "base_uri": "https://localhost:8080/",
          "height": 36
        },
        "execution": {
          "iopub.execute_input": "2023-11-25T05:43:56.920612Z",
          "iopub.status.busy": "2023-11-25T05:43:56.919507Z",
          "iopub.status.idle": "2023-11-25T05:43:56.937979Z",
          "shell.execute_reply": "2023-11-25T05:43:56.936977Z",
          "shell.execute_reply.started": "2023-11-25T05:43:56.920562Z"
        },
        "id": "90qxdLlaP2NO",
        "outputId": "32bceab7-99c3-44f5-8d72-db19e2729fdc",
        "tags": []
      },
      "outputs": [
        {
          "data": {
            "text/plain": [
              "'Грунт'"
            ]
          },
          "execution_count": 39,
          "metadata": {},
          "output_type": "execute_result"
        }
      ],
      "source": [
        "predicted_label = logits.argmax(-1).item()\n",
        "labels = dataset_test.features['label']\n",
        "labels.names[predicted_label]"
      ]
    },
    {
      "cell_type": "code",
      "execution_count": null,
      "metadata": {
        "execution": {
          "iopub.execute_input": "2023-11-25T05:05:35.181384Z",
          "iopub.status.busy": "2023-11-25T05:05:35.180479Z",
          "iopub.status.idle": "2023-11-25T05:05:35.200651Z",
          "shell.execute_reply": "2023-11-25T05:05:35.199537Z",
          "shell.execute_reply.started": "2023-11-25T05:05:35.181330Z"
        },
        "id": "6OukEGOVC_i_",
        "outputId": "a9ff08c4-46f5-466f-fa4a-c58ce9672aba"
      },
      "outputs": [
        {
          "data": {
            "text/plain": [
              "['Бетон', 'Грунт', 'Дерево', 'Кирпич']"
            ]
          },
          "execution_count": 38,
          "metadata": {},
          "output_type": "execute_result"
        }
      ],
      "source": [
        "labels.names"
      ]
    }
  ],
  "metadata": {
    "accelerator": "GPU",
    "colab": {
      "gpuType": "T4",
      "provenance": []
    },
    "kernelspec": {
      "display_name": "DataSphere Kernel",
      "language": "python",
      "name": "python3"
    },
    "language_info": {
      "codemirror_mode": {
        "name": "ipython",
        "version": 3
      },
      "file_extension": ".py",
      "mimetype": "text/x-python",
      "name": "python",
      "nbconvert_exporter": "python",
      "pygments_lexer": "ipython3",
      "version": "3.7.7"
    },
    "vscode": {
      "interpreter": {
        "hash": "5fe10bf018ef3e697f9035d60bf60847932a12bface18908407fd371fe880db9"
      }
    },
    "widgets": {
      "application/vnd.jupyter.widget-state+json": {
        "0062b5a326ca4d62bd0c17272b55512f": {
          "model_module": "@jupyter-widgets/controls",
          "model_module_version": "1.5.0",
          "model_name": "HTMLModel",
          "state": {
            "_dom_classes": [],
            "_model_module": "@jupyter-widgets/controls",
            "_model_module_version": "1.5.0",
            "_model_name": "HTMLModel",
            "_view_count": null,
            "_view_module": "@jupyter-widgets/controls",
            "_view_module_version": "1.5.0",
            "_view_name": "HTMLView",
            "description": "",
            "description_tooltip": null,
            "layout": "IPY_MODEL_533b6d2f85b04b89a68f79477145df5d",
            "placeholder": "​",
            "style": "IPY_MODEL_f53a12af66c048328e96a783ffa02603",
            "value": " 348M/348M [00:01&lt;00:00, 267MB/s]"
          }
        },
        "17fb14d5b0c04cfb9996b8a9da3ab9ac": {
          "model_module": "@jupyter-widgets/base",
          "model_module_version": "1.2.0",
          "model_name": "LayoutModel",
          "state": {
            "_model_module": "@jupyter-widgets/base",
            "_model_module_version": "1.2.0",
            "_model_name": "LayoutModel",
            "_view_count": null,
            "_view_module": "@jupyter-widgets/base",
            "_view_module_version": "1.2.0",
            "_view_name": "LayoutView",
            "align_content": null,
            "align_items": null,
            "align_self": null,
            "border": null,
            "bottom": null,
            "display": null,
            "flex": null,
            "flex_flow": null,
            "grid_area": null,
            "grid_auto_columns": null,
            "grid_auto_flow": null,
            "grid_auto_rows": null,
            "grid_column": null,
            "grid_gap": null,
            "grid_row": null,
            "grid_template_areas": null,
            "grid_template_columns": null,
            "grid_template_rows": null,
            "height": null,
            "justify_content": null,
            "justify_items": null,
            "left": null,
            "margin": null,
            "max_height": null,
            "max_width": null,
            "min_height": null,
            "min_width": null,
            "object_fit": null,
            "object_position": null,
            "order": null,
            "overflow": null,
            "overflow_x": null,
            "overflow_y": null,
            "padding": null,
            "right": null,
            "top": null,
            "visibility": null,
            "width": null
          }
        },
        "2bcede0a6fbd40b585b176f0a08e9914": {
          "model_module": "@jupyter-widgets/base",
          "model_module_version": "1.2.0",
          "model_name": "LayoutModel",
          "state": {
            "_model_module": "@jupyter-widgets/base",
            "_model_module_version": "1.2.0",
            "_model_name": "LayoutModel",
            "_view_count": null,
            "_view_module": "@jupyter-widgets/base",
            "_view_module_version": "1.2.0",
            "_view_name": "LayoutView",
            "align_content": null,
            "align_items": null,
            "align_self": null,
            "border": null,
            "bottom": null,
            "display": null,
            "flex": null,
            "flex_flow": null,
            "grid_area": null,
            "grid_auto_columns": null,
            "grid_auto_flow": null,
            "grid_auto_rows": null,
            "grid_column": null,
            "grid_gap": null,
            "grid_row": null,
            "grid_template_areas": null,
            "grid_template_columns": null,
            "grid_template_rows": null,
            "height": null,
            "justify_content": null,
            "justify_items": null,
            "left": null,
            "margin": null,
            "max_height": null,
            "max_width": null,
            "min_height": null,
            "min_width": null,
            "object_fit": null,
            "object_position": null,
            "order": null,
            "overflow": null,
            "overflow_x": null,
            "overflow_y": null,
            "padding": null,
            "right": null,
            "top": null,
            "visibility": null,
            "width": null
          }
        },
        "2eeac8d429614ada8477dbfded13f3b4": {
          "model_module": "@jupyter-widgets/base",
          "model_module_version": "1.2.0",
          "model_name": "LayoutModel",
          "state": {
            "_model_module": "@jupyter-widgets/base",
            "_model_module_version": "1.2.0",
            "_model_name": "LayoutModel",
            "_view_count": null,
            "_view_module": "@jupyter-widgets/base",
            "_view_module_version": "1.2.0",
            "_view_name": "LayoutView",
            "align_content": null,
            "align_items": null,
            "align_self": null,
            "border": null,
            "bottom": null,
            "display": null,
            "flex": null,
            "flex_flow": null,
            "grid_area": null,
            "grid_auto_columns": null,
            "grid_auto_flow": null,
            "grid_auto_rows": null,
            "grid_column": null,
            "grid_gap": null,
            "grid_row": null,
            "grid_template_areas": null,
            "grid_template_columns": null,
            "grid_template_rows": null,
            "height": null,
            "justify_content": null,
            "justify_items": null,
            "left": null,
            "margin": null,
            "max_height": null,
            "max_width": null,
            "min_height": null,
            "min_width": null,
            "object_fit": null,
            "object_position": null,
            "order": null,
            "overflow": null,
            "overflow_x": null,
            "overflow_y": null,
            "padding": null,
            "right": null,
            "top": null,
            "visibility": null,
            "width": null
          }
        },
        "30ea3018873b4051b513c6e22e2f98f7": {
          "model_module": "@jupyter-widgets/controls",
          "model_module_version": "1.5.0",
          "model_name": "ProgressStyleModel",
          "state": {
            "_model_module": "@jupyter-widgets/controls",
            "_model_module_version": "1.5.0",
            "_model_name": "ProgressStyleModel",
            "_view_count": null,
            "_view_module": "@jupyter-widgets/base",
            "_view_module_version": "1.2.0",
            "_view_name": "StyleView",
            "bar_color": null,
            "description_width": ""
          }
        },
        "3aa95672721e4d36ba656c51d9c29adc": {
          "model_module": "@jupyter-widgets/controls",
          "model_module_version": "1.5.0",
          "model_name": "HTMLModel",
          "state": {
            "_dom_classes": [],
            "_model_module": "@jupyter-widgets/controls",
            "_model_module_version": "1.5.0",
            "_model_name": "HTMLModel",
            "_view_count": null,
            "_view_module": "@jupyter-widgets/controls",
            "_view_module_version": "1.5.0",
            "_view_name": "HTMLView",
            "description": "",
            "description_tooltip": null,
            "layout": "IPY_MODEL_a22ab995e08a4f529066202057480dfc",
            "placeholder": "​",
            "style": "IPY_MODEL_7fbaf9f793a94f7cb1a5ffe100ed902d",
            "value": "Resolving data files: 100%"
          }
        },
        "4c0160b9455e48bbb056c5f287704c65": {
          "model_module": "@jupyter-widgets/base",
          "model_module_version": "1.2.0",
          "model_name": "LayoutModel",
          "state": {
            "_model_module": "@jupyter-widgets/base",
            "_model_module_version": "1.2.0",
            "_model_name": "LayoutModel",
            "_view_count": null,
            "_view_module": "@jupyter-widgets/base",
            "_view_module_version": "1.2.0",
            "_view_name": "LayoutView",
            "align_content": null,
            "align_items": null,
            "align_self": null,
            "border": null,
            "bottom": null,
            "display": null,
            "flex": null,
            "flex_flow": null,
            "grid_area": null,
            "grid_auto_columns": null,
            "grid_auto_flow": null,
            "grid_auto_rows": null,
            "grid_column": null,
            "grid_gap": null,
            "grid_row": null,
            "grid_template_areas": null,
            "grid_template_columns": null,
            "grid_template_rows": null,
            "height": null,
            "justify_content": null,
            "justify_items": null,
            "left": null,
            "margin": null,
            "max_height": null,
            "max_width": null,
            "min_height": null,
            "min_width": null,
            "object_fit": null,
            "object_position": null,
            "order": null,
            "overflow": null,
            "overflow_x": null,
            "overflow_y": null,
            "padding": null,
            "right": null,
            "top": null,
            "visibility": null,
            "width": null
          }
        },
        "4e2fe900776f4e41b91ecdf81e8c197e": {
          "model_module": "@jupyter-widgets/controls",
          "model_module_version": "1.5.0",
          "model_name": "HBoxModel",
          "state": {
            "_dom_classes": [],
            "_model_module": "@jupyter-widgets/controls",
            "_model_module_version": "1.5.0",
            "_model_name": "HBoxModel",
            "_view_count": null,
            "_view_module": "@jupyter-widgets/controls",
            "_view_module_version": "1.5.0",
            "_view_name": "HBoxView",
            "box_style": "",
            "children": [
              "IPY_MODEL_ec01ca9fd8b546a587a4f2de5a8718ae",
              "IPY_MODEL_de18a025ef194698b1f014cc0073329c",
              "IPY_MODEL_7b9615c828044c2284afab0a2f1c1c92"
            ],
            "layout": "IPY_MODEL_9483863c56884a148c139e193b377a31"
          }
        },
        "533b6d2f85b04b89a68f79477145df5d": {
          "model_module": "@jupyter-widgets/base",
          "model_module_version": "1.2.0",
          "model_name": "LayoutModel",
          "state": {
            "_model_module": "@jupyter-widgets/base",
            "_model_module_version": "1.2.0",
            "_model_name": "LayoutModel",
            "_view_count": null,
            "_view_module": "@jupyter-widgets/base",
            "_view_module_version": "1.2.0",
            "_view_name": "LayoutView",
            "align_content": null,
            "align_items": null,
            "align_self": null,
            "border": null,
            "bottom": null,
            "display": null,
            "flex": null,
            "flex_flow": null,
            "grid_area": null,
            "grid_auto_columns": null,
            "grid_auto_flow": null,
            "grid_auto_rows": null,
            "grid_column": null,
            "grid_gap": null,
            "grid_row": null,
            "grid_template_areas": null,
            "grid_template_columns": null,
            "grid_template_rows": null,
            "height": null,
            "justify_content": null,
            "justify_items": null,
            "left": null,
            "margin": null,
            "max_height": null,
            "max_width": null,
            "min_height": null,
            "min_width": null,
            "object_fit": null,
            "object_position": null,
            "order": null,
            "overflow": null,
            "overflow_x": null,
            "overflow_y": null,
            "padding": null,
            "right": null,
            "top": null,
            "visibility": null,
            "width": null
          }
        },
        "6098c6500d5146aca2aa5af472495cd3": {
          "model_module": "@jupyter-widgets/controls",
          "model_module_version": "1.5.0",
          "model_name": "DescriptionStyleModel",
          "state": {
            "_model_module": "@jupyter-widgets/controls",
            "_model_module_version": "1.5.0",
            "_model_name": "DescriptionStyleModel",
            "_view_count": null,
            "_view_module": "@jupyter-widgets/base",
            "_view_module_version": "1.2.0",
            "_view_name": "StyleView",
            "description_width": ""
          }
        },
        "658856548464496d90d62bd3875c7b66": {
          "model_module": "@jupyter-widgets/base",
          "model_module_version": "1.2.0",
          "model_name": "LayoutModel",
          "state": {
            "_model_module": "@jupyter-widgets/base",
            "_model_module_version": "1.2.0",
            "_model_name": "LayoutModel",
            "_view_count": null,
            "_view_module": "@jupyter-widgets/base",
            "_view_module_version": "1.2.0",
            "_view_name": "LayoutView",
            "align_content": null,
            "align_items": null,
            "align_self": null,
            "border": null,
            "bottom": null,
            "display": null,
            "flex": null,
            "flex_flow": null,
            "grid_area": null,
            "grid_auto_columns": null,
            "grid_auto_flow": null,
            "grid_auto_rows": null,
            "grid_column": null,
            "grid_gap": null,
            "grid_row": null,
            "grid_template_areas": null,
            "grid_template_columns": null,
            "grid_template_rows": null,
            "height": null,
            "justify_content": null,
            "justify_items": null,
            "left": null,
            "margin": null,
            "max_height": null,
            "max_width": null,
            "min_height": null,
            "min_width": null,
            "object_fit": null,
            "object_position": null,
            "order": null,
            "overflow": null,
            "overflow_x": null,
            "overflow_y": null,
            "padding": null,
            "right": null,
            "top": null,
            "visibility": null,
            "width": null
          }
        },
        "67ee472d8be7413a87729acff6934a74": {
          "model_module": "@jupyter-widgets/base",
          "model_module_version": "1.2.0",
          "model_name": "LayoutModel",
          "state": {
            "_model_module": "@jupyter-widgets/base",
            "_model_module_version": "1.2.0",
            "_model_name": "LayoutModel",
            "_view_count": null,
            "_view_module": "@jupyter-widgets/base",
            "_view_module_version": "1.2.0",
            "_view_name": "LayoutView",
            "align_content": null,
            "align_items": null,
            "align_self": null,
            "border": null,
            "bottom": null,
            "display": null,
            "flex": null,
            "flex_flow": null,
            "grid_area": null,
            "grid_auto_columns": null,
            "grid_auto_flow": null,
            "grid_auto_rows": null,
            "grid_column": null,
            "grid_gap": null,
            "grid_row": null,
            "grid_template_areas": null,
            "grid_template_columns": null,
            "grid_template_rows": null,
            "height": null,
            "justify_content": null,
            "justify_items": null,
            "left": null,
            "margin": null,
            "max_height": null,
            "max_width": null,
            "min_height": null,
            "min_width": null,
            "object_fit": null,
            "object_position": null,
            "order": null,
            "overflow": null,
            "overflow_x": null,
            "overflow_y": null,
            "padding": null,
            "right": null,
            "top": null,
            "visibility": null,
            "width": null
          }
        },
        "771b23c2f1ca4e809492bf79cad234f9": {
          "model_module": "@jupyter-widgets/controls",
          "model_module_version": "1.5.0",
          "model_name": "HTMLModel",
          "state": {
            "_dom_classes": [],
            "_model_module": "@jupyter-widgets/controls",
            "_model_module_version": "1.5.0",
            "_model_name": "HTMLModel",
            "_view_count": null,
            "_view_module": "@jupyter-widgets/controls",
            "_view_module_version": "1.5.0",
            "_view_name": "HTMLView",
            "description": "",
            "description_tooltip": null,
            "layout": "IPY_MODEL_658856548464496d90d62bd3875c7b66",
            "placeholder": "​",
            "style": "IPY_MODEL_e3715c3490aa4a9bbbd7f4ff0df7c5c4",
            "value": " 40/40 [00:00&lt;00:00, 1652.72it/s]"
          }
        },
        "789d52ebfc9b458f95c7455edab998de": {
          "model_module": "@jupyter-widgets/controls",
          "model_module_version": "1.5.0",
          "model_name": "ProgressStyleModel",
          "state": {
            "_model_module": "@jupyter-widgets/controls",
            "_model_module_version": "1.5.0",
            "_model_name": "ProgressStyleModel",
            "_view_count": null,
            "_view_module": "@jupyter-widgets/base",
            "_view_module_version": "1.2.0",
            "_view_name": "StyleView",
            "bar_color": null,
            "description_width": ""
          }
        },
        "7b9615c828044c2284afab0a2f1c1c92": {
          "model_module": "@jupyter-widgets/controls",
          "model_module_version": "1.5.0",
          "model_name": "HTMLModel",
          "state": {
            "_dom_classes": [],
            "_model_module": "@jupyter-widgets/controls",
            "_model_module_version": "1.5.0",
            "_model_name": "HTMLModel",
            "_view_count": null,
            "_view_module": "@jupyter-widgets/controls",
            "_view_module_version": "1.5.0",
            "_view_name": "HTMLView",
            "description": "",
            "description_tooltip": null,
            "layout": "IPY_MODEL_67ee472d8be7413a87729acff6934a74",
            "placeholder": "​",
            "style": "IPY_MODEL_b2a8f6ed825648e097823d174449c5b4",
            "value": " 69.6k/69.6k [00:00&lt;00:00, 813kB/s]"
          }
        },
        "7c706b32c2124f0abeaaf48e0aad282f": {
          "model_module": "@jupyter-widgets/controls",
          "model_module_version": "1.5.0",
          "model_name": "HBoxModel",
          "state": {
            "_dom_classes": [],
            "_model_module": "@jupyter-widgets/controls",
            "_model_module_version": "1.5.0",
            "_model_name": "HBoxModel",
            "_view_count": null,
            "_view_module": "@jupyter-widgets/controls",
            "_view_module_version": "1.5.0",
            "_view_name": "HBoxView",
            "box_style": "",
            "children": [
              "IPY_MODEL_3aa95672721e4d36ba656c51d9c29adc",
              "IPY_MODEL_a7b3ced824164e1ebe46928954ad40aa",
              "IPY_MODEL_771b23c2f1ca4e809492bf79cad234f9"
            ],
            "layout": "IPY_MODEL_4c0160b9455e48bbb056c5f287704c65"
          }
        },
        "7fbaf9f793a94f7cb1a5ffe100ed902d": {
          "model_module": "@jupyter-widgets/controls",
          "model_module_version": "1.5.0",
          "model_name": "DescriptionStyleModel",
          "state": {
            "_model_module": "@jupyter-widgets/controls",
            "_model_module_version": "1.5.0",
            "_model_name": "DescriptionStyleModel",
            "_view_count": null,
            "_view_module": "@jupyter-widgets/base",
            "_view_module_version": "1.2.0",
            "_view_name": "StyleView",
            "description_width": ""
          }
        },
        "8977bf64f8bb4537a8e800bc44b9e533": {
          "model_module": "@jupyter-widgets/base",
          "model_module_version": "1.2.0",
          "model_name": "LayoutModel",
          "state": {
            "_model_module": "@jupyter-widgets/base",
            "_model_module_version": "1.2.0",
            "_model_name": "LayoutModel",
            "_view_count": null,
            "_view_module": "@jupyter-widgets/base",
            "_view_module_version": "1.2.0",
            "_view_name": "LayoutView",
            "align_content": null,
            "align_items": null,
            "align_self": null,
            "border": null,
            "bottom": null,
            "display": null,
            "flex": null,
            "flex_flow": null,
            "grid_area": null,
            "grid_auto_columns": null,
            "grid_auto_flow": null,
            "grid_auto_rows": null,
            "grid_column": null,
            "grid_gap": null,
            "grid_row": null,
            "grid_template_areas": null,
            "grid_template_columns": null,
            "grid_template_rows": null,
            "height": null,
            "justify_content": null,
            "justify_items": null,
            "left": null,
            "margin": null,
            "max_height": null,
            "max_width": null,
            "min_height": null,
            "min_width": null,
            "object_fit": null,
            "object_position": null,
            "order": null,
            "overflow": null,
            "overflow_x": null,
            "overflow_y": null,
            "padding": null,
            "right": null,
            "top": null,
            "visibility": null,
            "width": null
          }
        },
        "9483863c56884a148c139e193b377a31": {
          "model_module": "@jupyter-widgets/base",
          "model_module_version": "1.2.0",
          "model_name": "LayoutModel",
          "state": {
            "_model_module": "@jupyter-widgets/base",
            "_model_module_version": "1.2.0",
            "_model_name": "LayoutModel",
            "_view_count": null,
            "_view_module": "@jupyter-widgets/base",
            "_view_module_version": "1.2.0",
            "_view_name": "LayoutView",
            "align_content": null,
            "align_items": null,
            "align_self": null,
            "border": null,
            "bottom": null,
            "display": null,
            "flex": null,
            "flex_flow": null,
            "grid_area": null,
            "grid_auto_columns": null,
            "grid_auto_flow": null,
            "grid_auto_rows": null,
            "grid_column": null,
            "grid_gap": null,
            "grid_row": null,
            "grid_template_areas": null,
            "grid_template_columns": null,
            "grid_template_rows": null,
            "height": null,
            "justify_content": null,
            "justify_items": null,
            "left": null,
            "margin": null,
            "max_height": null,
            "max_width": null,
            "min_height": null,
            "min_width": null,
            "object_fit": null,
            "object_position": null,
            "order": null,
            "overflow": null,
            "overflow_x": null,
            "overflow_y": null,
            "padding": null,
            "right": null,
            "top": null,
            "visibility": null,
            "width": null
          }
        },
        "986e33e699dd459194881d62b9d691ea": {
          "model_module": "@jupyter-widgets/base",
          "model_module_version": "1.2.0",
          "model_name": "LayoutModel",
          "state": {
            "_model_module": "@jupyter-widgets/base",
            "_model_module_version": "1.2.0",
            "_model_name": "LayoutModel",
            "_view_count": null,
            "_view_module": "@jupyter-widgets/base",
            "_view_module_version": "1.2.0",
            "_view_name": "LayoutView",
            "align_content": null,
            "align_items": null,
            "align_self": null,
            "border": null,
            "bottom": null,
            "display": null,
            "flex": null,
            "flex_flow": null,
            "grid_area": null,
            "grid_auto_columns": null,
            "grid_auto_flow": null,
            "grid_auto_rows": null,
            "grid_column": null,
            "grid_gap": null,
            "grid_row": null,
            "grid_template_areas": null,
            "grid_template_columns": null,
            "grid_template_rows": null,
            "height": null,
            "justify_content": null,
            "justify_items": null,
            "left": null,
            "margin": null,
            "max_height": null,
            "max_width": null,
            "min_height": null,
            "min_width": null,
            "object_fit": null,
            "object_position": null,
            "order": null,
            "overflow": null,
            "overflow_x": null,
            "overflow_y": null,
            "padding": null,
            "right": null,
            "top": null,
            "visibility": null,
            "width": null
          }
        },
        "9def750bea5b430c99f4d6c65d44715a": {
          "model_module": "@jupyter-widgets/controls",
          "model_module_version": "1.5.0",
          "model_name": "FloatProgressModel",
          "state": {
            "_dom_classes": [],
            "_model_module": "@jupyter-widgets/controls",
            "_model_module_version": "1.5.0",
            "_model_name": "FloatProgressModel",
            "_view_count": null,
            "_view_module": "@jupyter-widgets/controls",
            "_view_module_version": "1.5.0",
            "_view_name": "ProgressView",
            "bar_style": "success",
            "description": "",
            "description_tooltip": null,
            "layout": "IPY_MODEL_2bcede0a6fbd40b585b176f0a08e9914",
            "max": 347518959,
            "min": 0,
            "orientation": "horizontal",
            "style": "IPY_MODEL_ca9688b901c84f549a1cb636e06e73c6",
            "value": 347518959
          }
        },
        "a22ab995e08a4f529066202057480dfc": {
          "model_module": "@jupyter-widgets/base",
          "model_module_version": "1.2.0",
          "model_name": "LayoutModel",
          "state": {
            "_model_module": "@jupyter-widgets/base",
            "_model_module_version": "1.2.0",
            "_model_name": "LayoutModel",
            "_view_count": null,
            "_view_module": "@jupyter-widgets/base",
            "_view_module_version": "1.2.0",
            "_view_name": "LayoutView",
            "align_content": null,
            "align_items": null,
            "align_self": null,
            "border": null,
            "bottom": null,
            "display": null,
            "flex": null,
            "flex_flow": null,
            "grid_area": null,
            "grid_auto_columns": null,
            "grid_auto_flow": null,
            "grid_auto_rows": null,
            "grid_column": null,
            "grid_gap": null,
            "grid_row": null,
            "grid_template_areas": null,
            "grid_template_columns": null,
            "grid_template_rows": null,
            "height": null,
            "justify_content": null,
            "justify_items": null,
            "left": null,
            "margin": null,
            "max_height": null,
            "max_width": null,
            "min_height": null,
            "min_width": null,
            "object_fit": null,
            "object_position": null,
            "order": null,
            "overflow": null,
            "overflow_x": null,
            "overflow_y": null,
            "padding": null,
            "right": null,
            "top": null,
            "visibility": null,
            "width": null
          }
        },
        "a7b3ced824164e1ebe46928954ad40aa": {
          "model_module": "@jupyter-widgets/controls",
          "model_module_version": "1.5.0",
          "model_name": "FloatProgressModel",
          "state": {
            "_dom_classes": [],
            "_model_module": "@jupyter-widgets/controls",
            "_model_module_version": "1.5.0",
            "_model_name": "FloatProgressModel",
            "_view_count": null,
            "_view_module": "@jupyter-widgets/controls",
            "_view_module_version": "1.5.0",
            "_view_name": "ProgressView",
            "bar_style": "success",
            "description": "",
            "description_tooltip": null,
            "layout": "IPY_MODEL_8977bf64f8bb4537a8e800bc44b9e533",
            "max": 40,
            "min": 0,
            "orientation": "horizontal",
            "style": "IPY_MODEL_789d52ebfc9b458f95c7455edab998de",
            "value": 40
          }
        },
        "b2a8f6ed825648e097823d174449c5b4": {
          "model_module": "@jupyter-widgets/controls",
          "model_module_version": "1.5.0",
          "model_name": "DescriptionStyleModel",
          "state": {
            "_model_module": "@jupyter-widgets/controls",
            "_model_module_version": "1.5.0",
            "_model_name": "DescriptionStyleModel",
            "_view_count": null,
            "_view_module": "@jupyter-widgets/base",
            "_view_module_version": "1.2.0",
            "_view_name": "StyleView",
            "description_width": ""
          }
        },
        "ca9688b901c84f549a1cb636e06e73c6": {
          "model_module": "@jupyter-widgets/controls",
          "model_module_version": "1.5.0",
          "model_name": "ProgressStyleModel",
          "state": {
            "_model_module": "@jupyter-widgets/controls",
            "_model_module_version": "1.5.0",
            "_model_name": "ProgressStyleModel",
            "_view_count": null,
            "_view_module": "@jupyter-widgets/base",
            "_view_module_version": "1.2.0",
            "_view_name": "StyleView",
            "bar_color": null,
            "description_width": ""
          }
        },
        "cb3bdbea3605432caa5505c42eb44286": {
          "model_module": "@jupyter-widgets/controls",
          "model_module_version": "1.5.0",
          "model_name": "DescriptionStyleModel",
          "state": {
            "_model_module": "@jupyter-widgets/controls",
            "_model_module_version": "1.5.0",
            "_model_name": "DescriptionStyleModel",
            "_view_count": null,
            "_view_module": "@jupyter-widgets/base",
            "_view_module_version": "1.2.0",
            "_view_name": "StyleView",
            "description_width": ""
          }
        },
        "de18a025ef194698b1f014cc0073329c": {
          "model_module": "@jupyter-widgets/controls",
          "model_module_version": "1.5.0",
          "model_name": "FloatProgressModel",
          "state": {
            "_dom_classes": [],
            "_model_module": "@jupyter-widgets/controls",
            "_model_module_version": "1.5.0",
            "_model_name": "FloatProgressModel",
            "_view_count": null,
            "_view_module": "@jupyter-widgets/controls",
            "_view_module_version": "1.5.0",
            "_view_name": "ProgressView",
            "bar_style": "success",
            "description": "",
            "description_tooltip": null,
            "layout": "IPY_MODEL_17fb14d5b0c04cfb9996b8a9da3ab9ac",
            "max": 69594,
            "min": 0,
            "orientation": "horizontal",
            "style": "IPY_MODEL_30ea3018873b4051b513c6e22e2f98f7",
            "value": 69594
          }
        },
        "e3715c3490aa4a9bbbd7f4ff0df7c5c4": {
          "model_module": "@jupyter-widgets/controls",
          "model_module_version": "1.5.0",
          "model_name": "DescriptionStyleModel",
          "state": {
            "_model_module": "@jupyter-widgets/controls",
            "_model_module_version": "1.5.0",
            "_model_name": "DescriptionStyleModel",
            "_view_count": null,
            "_view_module": "@jupyter-widgets/base",
            "_view_module_version": "1.2.0",
            "_view_name": "StyleView",
            "description_width": ""
          }
        },
        "e9585615b390453e9cdb341f6d78e77d": {
          "model_module": "@jupyter-widgets/controls",
          "model_module_version": "1.5.0",
          "model_name": "HBoxModel",
          "state": {
            "_dom_classes": [],
            "_model_module": "@jupyter-widgets/controls",
            "_model_module_version": "1.5.0",
            "_model_name": "HBoxModel",
            "_view_count": null,
            "_view_module": "@jupyter-widgets/controls",
            "_view_module_version": "1.5.0",
            "_view_name": "HBoxView",
            "box_style": "",
            "children": [
              "IPY_MODEL_ea436dd8e0574860a66644a3a409c231",
              "IPY_MODEL_9def750bea5b430c99f4d6c65d44715a",
              "IPY_MODEL_0062b5a326ca4d62bd0c17272b55512f"
            ],
            "layout": "IPY_MODEL_f06bc65c11014082b660a7b4f88306cc"
          }
        },
        "ea436dd8e0574860a66644a3a409c231": {
          "model_module": "@jupyter-widgets/controls",
          "model_module_version": "1.5.0",
          "model_name": "HTMLModel",
          "state": {
            "_dom_classes": [],
            "_model_module": "@jupyter-widgets/controls",
            "_model_module_version": "1.5.0",
            "_model_name": "HTMLModel",
            "_view_count": null,
            "_view_module": "@jupyter-widgets/controls",
            "_view_module_version": "1.5.0",
            "_view_name": "HTMLView",
            "description": "",
            "description_tooltip": null,
            "layout": "IPY_MODEL_986e33e699dd459194881d62b9d691ea",
            "placeholder": "​",
            "style": "IPY_MODEL_cb3bdbea3605432caa5505c42eb44286",
            "value": "pytorch_model.bin: 100%"
          }
        },
        "ec01ca9fd8b546a587a4f2de5a8718ae": {
          "model_module": "@jupyter-widgets/controls",
          "model_module_version": "1.5.0",
          "model_name": "HTMLModel",
          "state": {
            "_dom_classes": [],
            "_model_module": "@jupyter-widgets/controls",
            "_model_module_version": "1.5.0",
            "_model_name": "HTMLModel",
            "_view_count": null,
            "_view_module": "@jupyter-widgets/controls",
            "_view_module_version": "1.5.0",
            "_view_name": "HTMLView",
            "description": "",
            "description_tooltip": null,
            "layout": "IPY_MODEL_2eeac8d429614ada8477dbfded13f3b4",
            "placeholder": "​",
            "style": "IPY_MODEL_6098c6500d5146aca2aa5af472495cd3",
            "value": "config.json: 100%"
          }
        },
        "f06bc65c11014082b660a7b4f88306cc": {
          "model_module": "@jupyter-widgets/base",
          "model_module_version": "1.2.0",
          "model_name": "LayoutModel",
          "state": {
            "_model_module": "@jupyter-widgets/base",
            "_model_module_version": "1.2.0",
            "_model_name": "LayoutModel",
            "_view_count": null,
            "_view_module": "@jupyter-widgets/base",
            "_view_module_version": "1.2.0",
            "_view_name": "LayoutView",
            "align_content": null,
            "align_items": null,
            "align_self": null,
            "border": null,
            "bottom": null,
            "display": null,
            "flex": null,
            "flex_flow": null,
            "grid_area": null,
            "grid_auto_columns": null,
            "grid_auto_flow": null,
            "grid_auto_rows": null,
            "grid_column": null,
            "grid_gap": null,
            "grid_row": null,
            "grid_template_areas": null,
            "grid_template_columns": null,
            "grid_template_rows": null,
            "height": null,
            "justify_content": null,
            "justify_items": null,
            "left": null,
            "margin": null,
            "max_height": null,
            "max_width": null,
            "min_height": null,
            "min_width": null,
            "object_fit": null,
            "object_position": null,
            "order": null,
            "overflow": null,
            "overflow_x": null,
            "overflow_y": null,
            "padding": null,
            "right": null,
            "top": null,
            "visibility": null,
            "width": null
          }
        },
        "f53a12af66c048328e96a783ffa02603": {
          "model_module": "@jupyter-widgets/controls",
          "model_module_version": "1.5.0",
          "model_name": "DescriptionStyleModel",
          "state": {
            "_model_module": "@jupyter-widgets/controls",
            "_model_module_version": "1.5.0",
            "_model_name": "DescriptionStyleModel",
            "_view_count": null,
            "_view_module": "@jupyter-widgets/base",
            "_view_module_version": "1.2.0",
            "_view_name": "StyleView",
            "description_width": ""
          }
        }
      }
    }
  },
  "nbformat": 4,
  "nbformat_minor": 0
}